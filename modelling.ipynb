{
 "cells": [
  {
   "cell_type": "markdown",
   "metadata": {},
   "source": [
    "# Gecko dataset modelling"
   ]
  },
  {
   "cell_type": "code",
   "execution_count": 2,
   "metadata": {},
   "outputs": [],
   "source": [
    "# Import required packages\n",
    "from pathlib import Path\n",
    "\n",
    "import numpy as np\n",
    "import pandas as pd\n",
    "import matplotlib.pyplot as plt\n",
    "\n",
    "from sklearn.model_selection import cross_val_score\n",
    "from sklearn.linear_model import LinearRegression\n",
    "from sklearn.ensemble import RandomForestRegressor, GradientBoostingRegressor\n",
    "from sklearn.svm import SVR\n",
    "from sklearn.model_selection import train_test_split"
   ]
  },
  {
   "cell_type": "code",
   "execution_count": 3,
   "metadata": {},
   "outputs": [],
   "source": [
    "# Load data and split into features and labels\n",
    "data_path = Path(\"data/gecko_ml.csv\")\n",
    "data = pd.read_csv(data_path)\n",
    "\n",
    "y = data[\"pSat_Pa\"]\n",
    "y_trans = data[\"trans_pSat_Pa\"]\n",
    "\n",
    "# Select the original data\n",
    "x_original = data[['id', 'MW', 'NumOfAtoms', 'NumOfC', 'NumOfO', 'NumOfN',\n",
    "       'NumHBondDonors', 'NumOfConf', 'NumOfConfUsed', 'cc', 'ccco',\n",
    "       'hydroxyl_alkl', 'aldehyde', 'ketone', 'carboxylic_acid', 'ester',\n",
    "       'ether_alicyclic', 'nitrate', 'nitro', 'aromatic_hydroxyl',\n",
    "       'carbonylperoxynitrate', 'peroxide', 'hydroperoxide',\n",
    "       'carbonylperoxyacid', 'nitroester', 'parentspecies']]\n",
    "\n",
    "# Select data that has been preprocessed\n",
    "x = data[['id', 'NumOfAtoms', 'NumOfC', 'NumOfO', 'NumOfN',\n",
    "       'NumHBondDonors', 'NumOfConfUsed', 'cc', 'ccco',\n",
    "       'hydroxyl_alkl', 'aldehyde', 'ketone', 'carboxylic_acid', 'ester',\n",
    "       'ether_alicyclic', 'nitrate', 'nitro', 'aromatic_hydroxyl',\n",
    "       'carbonylperoxynitrate', 'peroxide', 'hydroperoxide',\n",
    "       'carbonylperoxyacid', 'nitroester', 'trans_NumOfConf',\n",
    "       'trans_MW',\n",
    "       'ohe_parentspecies_apin', 'ohe_parentspecies_apin_decane',\n",
    "       'ohe_parentspecies_apin_decane_toluene',\n",
    "       'ohe_parentspecies_apin_toluene', 'ohe_parentspecies_decane',\n",
    "       'ohe_parentspecies_decane_toluene']]\n",
    "\n",
    "# Select new variables that were created during preprocessing\n",
    "x_new = data[['new_MW_hydroxyl_alkl_interaction',\n",
    "       'new_polarity_score', 'new_num_pca_1', 'new_num_pca_2']]\n"
   ]
  },
  {
   "cell_type": "code",
   "execution_count": 5,
   "metadata": {},
   "outputs": [
    {
     "name": "stderr",
     "output_type": "stream",
     "text": [
      "/tmp/ipykernel_23743/3748615811.py:14: SettingWithCopyWarning: \n",
      "A value is trying to be set on a copy of a slice from a DataFrame.\n",
      "Try using .loc[row_indexer,col_indexer] = value instead\n",
      "\n",
      "See the caveats in the documentation: https://pandas.pydata.org/pandas-docs/stable/user_guide/indexing.html#returning-a-view-versus-a-copy\n",
      "  preprocessed_data[preprocessed_data[[\"ohe_parentspecies_apin\",\n",
      "/tmp/ipykernel_23743/3748615811.py:14: SettingWithCopyWarning: \n",
      "A value is trying to be set on a copy of a slice from a DataFrame\n",
      "\n",
      "See the caveats in the documentation: https://pandas.pydata.org/pandas-docs/stable/user_guide/indexing.html#returning-a-view-versus-a-copy\n",
      "  preprocessed_data[preprocessed_data[[\"ohe_parentspecies_apin\",\n"
     ]
    }
   ],
   "source": [
    "preprocessed_data = data[['id', 'NumOfAtoms', 'NumOfC', 'NumOfO', 'NumOfN',\n",
    "       'NumHBondDonors', 'NumOfConfUsed', 'cc', 'ccco',\n",
    "       'hydroxyl_alkl', 'aldehyde', 'ketone', 'carboxylic_acid', 'ester',\n",
    "       'ether_alicyclic', 'nitrate', 'nitro', 'aromatic_hydroxyl',\n",
    "       'carbonylperoxynitrate', 'peroxide', 'hydroperoxide',\n",
    "       'carbonylperoxyacid', 'nitroester', 'trans_NumOfConf',\n",
    "       'trans_MW',\n",
    "       'ohe_parentspecies_apin', 'ohe_parentspecies_apin_decane',\n",
    "       'ohe_parentspecies_apin_decane_toluene',\n",
    "       'ohe_parentspecies_apin_toluene', 'ohe_parentspecies_decane',\n",
    "       'ohe_parentspecies_decane_toluene', 'pSat_Pa', 'trans_pSat_Pa']]\n",
    "\n",
    "# One hot encoding of parentspecies column has Nan values, I decided to keep the rows with Nans and set each of the ohe* variables to one \n",
    "preprocessed_data[preprocessed_data[[\"ohe_parentspecies_apin\",\n",
    "\"ohe_parentspecies_apin_decane\",\n",
    "\"ohe_parentspecies_apin_decane_toluene\",\n",
    "\"ohe_parentspecies_apin_toluene\",\n",
    "\"ohe_parentspecies_decane\",\n",
    "\"ohe_parentspecies_decane_toluene\"]].isna()] = 1.0\n",
    "\n",
    "# Based on the description below, I drop the id column\n",
    "preprocessed_data = preprocessed_data.drop(\"id\", axis=1)\n",
    "\n",
    "train, val = train_test_split(preprocessed_data, test_size=0.3)\n",
    "\n",
    "y_train = train[\"trans_pSat_Pa\"]\n",
    "y_train_org = train[\"pSat_Pa\"]\n",
    "x_train = train.drop([\"trans_pSat_Pa\", \"pSat_Pa\"], axis=1)\n",
    "\n",
    "y_val = val[\"trans_pSat_Pa\"]\n",
    "y_val_org = val[\"pSat_Pa\"]\n",
    "x_val = val.drop([\"trans_pSat_Pa\", \"pSat_Pa\"], axis=1)"
   ]
  },
  {
   "cell_type": "markdown",
   "metadata": {},
   "source": [
    "    \n",
    "### Dataset columns descriptions\n",
    "\n",
    "##### Original variables that were scaled:\n",
    "- **id** - A unique molecule index used in naming files\n",
    "\n",
    "- **pSat_Pa** - The saturation vapour pressure of the molecule calculated by COSMOtherm (Pa)\n",
    "- **MW** - The molecular weight of the molecule (g/mol).\n",
    "- **NumOfAtoms** - The number of atoms in the molecule\n",
    "- **NumOfC** - The number of carbon atoms in the molecule\n",
    "- **NumOfO** - The number of oxygen atoms in the molecul\n",
    "- **NumOfN** - The number of nitrogen atoms in the molecule\n",
    "- **NumHBondDonors** - “The number of hydrogen bond donors in the molecule, i.e. hydrogens bound to oxygen.”\n",
    "- **NumOfConf** - The number of stable conformers found and successfully calculated by COSMOconf.\n",
    "- **NumOfConfUsed** - The number of conformers used to calculate the thermodynamic properties.\n",
    "\n",
    "- **cc** - The number of non-aromatic C=C bounds found in the molecule.\n",
    "- **ccco** - The number of “C=C-C=O” structures found in non-aromatic rings in the molecule.\n",
    "- **hydroxyl_alkl** - The number of the alkylic hydroxyl groups found in the molecule.\n",
    "- **aldehyde** - The number of aldehyde groups in the molecule.\n",
    "- **ketone** - The number of ketone groups in the molecule.\n",
    "\n",
    "- **carboxylic_acid** - The number of carboxylic acid groups in the molecule.\n",
    "- **ester** - The number of ester groups in the molecule.\n",
    "- **ether_alicyclic** - The number of alicyclic ester groups in the molecule.\n",
    "- **nitrate** - The number of alicyclic nitrate groups in the molecule\n",
    "- **nitro** - The number of nitro ester groups in the molecule\n",
    "- **aromatic_hydroxyl** - The number of alicyclic aromatic hydroxyl groups in the molecule.\n",
    "- **carbonylperoxynitrate** - The number of carbonylperoxynitrate groups in the molecule.\n",
    "- **peroxide** - The number of peroxide groups in the molecule\n",
    "- **hydroperoxide** - The number of hydroperoxide groups in the molecule.\n",
    "- **carbonylperoxyacid** - The number of carbonylperoxyacid groups found in the molecule\n",
    "- **nitroester** - The number of nitroester groups found in the molecule\n",
    "- **parentspecies** - Either “decane”, “toluene”, “apin” for alpha-pinene or a combination of these connected by an underscore to indicate ambiguous descent. In 243 cases, the parent species is “None” because it was not possible to retrieve it.\n",
    "    \n",
    "\n",
    "##### Transformed or created variables (also scaled):\n",
    "                \n",
    "- **trans_NumOfConf**,    # NumOfConf to the power of 0.3           \n",
    "- **trans_MW**,           # Square root of trans_MW              \n",
    "- **trans_pSat_Pa**,      # log transformed pSat_Pa                  \n",
    "- **new_MW_hydroxyl_alkl_interaction**, #interaction term between MW and hydroxyl_alkl\n",
    "- **new_polarity_score**,  #polarity with assigning different weights to functional group features               \n",
    "- **new_num_pca_1**,      #First principal component for all variable with \"Num\" in names               \n",
    "- **new_num_pca_2**,      #Second principal component for all variable with \"Num\" in names                  \n",
    "\n",
    "#### Variables for the one hot encoding for parentspecies:\n",
    "- **ohe_parentspecies_apin**,               # parentspecies category apin\n",
    "- **ohe_parentspecies_apin_decane**,        # parentspecies category decane\n",
    "- **ohe_parentspecies_apin_decane_toluene**,# parentspecies category apin_decane_toluene\n",
    "- **ohe_parentspecies_apin_toluene**,       # parentspecies category apin_toluene\n",
    "- **ohe_parentspecies_decane**,             # parentspecies category decane\n",
    "- **ohe_parentspecies_decane_toluene**,     # parentspecies category decane_toluene"
   ]
  },
  {
   "cell_type": "code",
   "execution_count": 10,
   "metadata": {},
   "outputs": [],
   "source": [
    "# Based on the description below, I drop the id column\n",
    "x = x.drop(\"id\", axis=1)"
   ]
  },
  {
   "cell_type": "code",
   "execution_count": 40,
   "metadata": {},
   "outputs": [
    {
     "data": {
      "text/plain": [
       "NumOfAtoms                               0\n",
       "NumOfC                                   0\n",
       "NumOfO                                   0\n",
       "NumOfN                                   0\n",
       "NumHBondDonors                           0\n",
       "NumOfConfUsed                            0\n",
       "cc                                       0\n",
       "ccco                                     0\n",
       "hydroxyl_alkl                            0\n",
       "aldehyde                                 0\n",
       "ketone                                   0\n",
       "carboxylic_acid                          0\n",
       "ester                                    0\n",
       "ether_alicyclic                          0\n",
       "nitrate                                  0\n",
       "nitro                                    0\n",
       "aromatic_hydroxyl                        0\n",
       "carbonylperoxynitrate                    0\n",
       "peroxide                                 0\n",
       "hydroperoxide                            0\n",
       "carbonylperoxyacid                       0\n",
       "nitroester                               0\n",
       "trans_NumOfConf                          0\n",
       "trans_MW                                 0\n",
       "ohe_parentspecies_apin                   0\n",
       "ohe_parentspecies_apin_decane            0\n",
       "ohe_parentspecies_apin_decane_toluene    0\n",
       "ohe_parentspecies_apin_toluene           0\n",
       "ohe_parentspecies_decane                 0\n",
       "ohe_parentspecies_decane_toluene         0\n",
       "dtype: int64"
      ]
     },
     "execution_count": 40,
     "metadata": {},
     "output_type": "execute_result"
    }
   ],
   "source": [
    "# One hot encoding of parentspecies column has Nan values, I decided to keep the rows with Nans and set each of the ohe* variables to one \n",
    "x[x[[\"ohe_parentspecies_apin\",\n",
    "\"ohe_parentspecies_apin_decane\",\n",
    "\"ohe_parentspecies_apin_decane_toluene\",\n",
    "\"ohe_parentspecies_apin_toluene\",\n",
    "\"ohe_parentspecies_decane\",\n",
    "\"ohe_parentspecies_decane_toluene\"]].isna()] = 1.0\n",
    "x.isna().sum()"
   ]
  },
  {
   "cell_type": "markdown",
   "metadata": {},
   "source": [
    "# Model selection\n"
   ]
  },
  {
   "cell_type": "code",
   "execution_count": 42,
   "metadata": {},
   "outputs": [
    {
     "name": "stdout",
     "output_type": "stream",
     "text": [
      "0.6802828823796545\n"
     ]
    }
   ],
   "source": [
    "baseline = LinearRegression() # linear regression is a good candidate for the baseline model\n",
    "\n",
    "scores = cross_val_score(baseline, x, y_trans, cv=10)\n",
    "print(scores.mean())"
   ]
  },
  {
   "cell_type": "code",
   "execution_count": 45,
   "metadata": {},
   "outputs": [
    {
     "name": "stdout",
     "output_type": "stream",
     "text": [
      "-156.917726605793\n"
     ]
    }
   ],
   "source": [
    "model1 = RandomForestRegressor()\n",
    "\n",
    "scores = cross_val_score(model1, x_train, y_train, cv=10, scoring='r2')\n",
    "print(scores.mean())"
   ]
  },
  {
   "cell_type": "code",
   "execution_count": 56,
   "metadata": {},
   "outputs": [
    {
     "name": "stdout",
     "output_type": "stream",
     "text": [
      "0.7515480602793303\n"
     ]
    }
   ],
   "source": [
    "model2 = SVR()\n",
    "scores = cross_val_score(model2, x_train, y_train, cv=10, scoring='r2')\n",
    "print(scores.mean())"
   ]
  },
  {
   "cell_type": "code",
   "execution_count": 6,
   "metadata": {},
   "outputs": [
    {
     "name": "stdout",
     "output_type": "stream",
     "text": [
      "0.7223356550468599\n"
     ]
    }
   ],
   "source": [
    "model3 = GradientBoostingRegressor()\n",
    "scores = cross_val_score(model3, x_train, y_train, cv=10, scoring='r2')\n",
    "print(scores.mean())\n"
   ]
  },
  {
   "cell_type": "code",
   "execution_count": 7,
   "metadata": {},
   "outputs": [],
   "source": [
    "model3.fit(x_train, y_train)\n",
    "predictions = model3.predict(x_val)\n"
   ]
  },
  {
   "cell_type": "code",
   "execution_count": 61,
   "metadata": {},
   "outputs": [
    {
     "data": {
      "image/png": "[encoded data removed]",
      "text/plain": [
       "<Figure size 640x480 with 1 Axes>"
      ]
     },
     "metadata": {},
     "output_type": "display_data"
    }
   ],
   "source": [
    "\n",
    "plt.hist(predictions - y_val, bins=100)\n",
    "plt.show()"
   ]
  },
  {
   "cell_type": "code",
   "execution_count": 34,
   "metadata": {},
   "outputs": [
    {
     "data": {
      "image/png": "[encoded data removed]",
      "text/plain": [
       "<Figure size 640x480 with 1 Axes>"
      ]
     },
     "metadata": {},
     "output_type": "display_data"
    },
    {
     "name": "stdout",
     "output_type": "stream",
     "text": [
      "-0.0082843262048193 -0.0089709226682509 2.4525843076877867\n"
     ]
    }
   ],
   "source": [
    "org_pred = np.exp(predictions)\n",
    "\n",
    "# plt.hist(y_val_org, bins=100)\n",
    "to_plot = np.sort(df[\"pSat_Pa\"])[:-100]\n",
    "plt.plot(np.arange(to_plot.size), to_plot)\n",
    "plt.show()\n",
    "print(np.mean(y_val_org), y_val_org.min(), y_val_org.max()) "
   ]
  },
  {
   "cell_type": "code",
   "execution_count": 11,
   "metadata": {},
   "outputs": [],
   "source": [
    "df = pd.read_csv(\"data/Dataframe.csv\")\n",
    "test = pd.read_csv(\"data/test.csv\")\n",
    "traindata = pd.read_csv(\"data/train.csv\")\n"
   ]
  },
  {
   "cell_type": "code",
   "execution_count": 35,
   "metadata": {},
   "outputs": [],
   "source": [
    "df[df['index'] > 1000000]\n",
    "orig_mean = df[\"pSat_Pa\"].mean()\n",
    "orig_std = df[\"pSat_Pa\"].std()\n",
    "orig_log_mean = np.log(df[\"pSat_Pa\"]).mean()\n",
    "orig_log_std = np.log(df[\"pSat_Pa\"]).std()"
   ]
  },
  {
   "cell_type": "code",
   "execution_count": 42,
   "metadata": {},
   "outputs": [
    {
     "name": "stdout",
     "output_type": "stream",
     "text": [
      "49.26361939469571 5491.477433981779\n"
     ]
    },
    {
     "data": {
      "text/plain": [
       "count    9492.000000\n",
       "mean       -0.008284\n",
       "std         0.030769\n",
       "min        -0.008971\n",
       "25%        -0.008971\n",
       "50%        -0.008971\n",
       "75%        -0.008970\n",
       "max         2.452584\n",
       "Name: pSat_Pa, dtype: float64"
      ]
     },
     "execution_count": 42,
     "metadata": {},
     "output_type": "execute_result"
    }
   ],
   "source": [
    "print(orig_mean, orig_std)\n",
    "y_val_org.describe()"
   ]
  },
  {
   "cell_type": "code",
   "execution_count": 40,
   "metadata": {},
   "outputs": [
    {
     "data": {
      "image/png": "[encoded data removed]",
      "text/plain": [
       "<Figure size 640x480 with 1 Axes>"
      ]
     },
     "metadata": {},
     "output_type": "display_data"
    }
   ],
   "source": [
    "unsc_pred = orig_log_std * predictions + orig_log_mean\n",
    "orig_pred = np.exp(unsc_pred)\n",
    "\n",
    "to_plot = np.sort(orig_std * y_val_org + orig_mean)\n",
    "plt.plot(np.arange(to_plot.size), to_plot)\n",
    "plt.show()"
   ]
  }
 ],
 "metadata": {
  "kernelspec": {
   "display_name": "venv",
   "language": "python",
   "name": "python3"
  },
  "language_info": {
   "codemirror_mode": {
    "name": "ipython",
    "version": 3
   },
   "file_extension": ".py",
   "mimetype": "text/x-python",
   "name": "python",
   "nbconvert_exporter": "python",
   "pygments_lexer": "ipython3",
   "version": "3.11.4"
  }
 },
 "nbformat": 4,
 "nbformat_minor": 2
}
