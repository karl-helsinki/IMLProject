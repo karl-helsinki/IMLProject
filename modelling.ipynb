{
 "cells": [
  {
   "cell_type": "markdown",
   "metadata": {},
   "source": [
    "# Gecko dataset modelling"
   ]
  },
  {
   "cell_type": "code",
   "execution_count": 213,
   "metadata": {},
   "outputs": [],
   "source": [
    "# Import required packages\n",
    "from pathlib import Path\n",
    "\n",
    "import numpy as np\n",
    "import pandas as pd\n",
    "import matplotlib.pyplot as plt\n",
    "\n",
    "from sklearn.model_selection import cross_val_score\n",
    "from sklearn.linear_model import LinearRegression, ElasticNet, ElasticNetCV\n",
    "from sklearn.ensemble import RandomForestRegressor, GradientBoostingRegressor\n",
    "from sklearn.svm import SVR\n",
    "from sklearn.model_selection import train_test_split\n",
    "from sklearn.utils import shuffle\n",
    "from sklearn.metrics import r2_score, mean_squared_error"
   ]
  },
  {
   "cell_type": "code",
   "execution_count": 224,
   "metadata": {},
   "outputs": [],
   "source": [
    "def prepare_data(path: Path, features: list, target: list=None):\n",
    "    \"\"\"Load data from the given path, select required features, preprocess the data\n",
    "    and if needed select the target\n",
    "    \"\"\"\n",
    "    dataset = pd.read_csv(path)\n",
    "    if not target:\n",
    "        # Test dataset lacks this column, but it is present in the training set\n",
    "        dataset[\"ohe_parentspecies_decane_toluene\"] = 0.0\n",
    "\n",
    "    x = dataset[features]\n",
    "    \n",
    "    # One hot encoding of parentspecies column has Nan values, \n",
    "    # I decided to keep the rows with Nans and set each of the ohe* variables to one \n",
    "    x[x[[\"ohe_parentspecies_apin\",\n",
    "    \"ohe_parentspecies_apin_decane\",\n",
    "    \"ohe_parentspecies_apin_decane_toluene\",\n",
    "    \"ohe_parentspecies_apin_toluene\",\n",
    "    \"ohe_parentspecies_decane\",\n",
    "    \"ohe_parentspecies_decane_toluene\"]].isna()] = 1.0\n",
    "\n",
    "    # id column is not a meanigful feature\n",
    "    x = x.drop(\"id\", axis=1)\n",
    "    if target:\n",
    "        y = dataset[target]\n",
    "        return x, y\n",
    "    else:\n",
    "        return x\n",
    "    \n",
    "def transform_predictions(predictions):\n",
    "    \"\"\"Reverse transformation applied to the target variable. First unscales the variable based on the mean and std values from the training set\n",
    "    then applies exp function. Verified to work properly on the train set.\"\"\"\n",
    "    df = pd.read_csv(\"data/train.csv\")\n",
    "    orig_log_mean = np.log(df[\"pSat_Pa\"]).mean()\n",
    "    orig_log_std = np.log(df[\"pSat_Pa\"]).std()\n",
    "    unscaled = unscale(predictions, orig_log_mean, orig_log_std)\n",
    "    return np.exp(unscaled)\n",
    "\n",
    "def unscale_orig_target(target):\n",
    "    \"\"\"Unscale the value of pSat_Pa to obtain the original values. Verified to work properly for the train set.\"\"\"\n",
    "    df = pd.read_csv(\"data/train.csv\")\n",
    "    orig_mean = df[\"pSat_Pa\"].mean()\n",
    "    orig_std = df[\"pSat_Pa\"].std()\n",
    "    return unscale(target, orig_mean, orig_std)\n",
    "\n",
    "def unscale(variable, mean, std):\n",
    "    return std * variable + mean\n",
    "\n",
    "def scale(variable, mean, std):\n",
    "    return (variable - mean) / std\n",
    "\n",
    "def save_test_predictions(test_predictions, save_path, original_test_file):\n",
    "    original_test = pd.read_csv(original_test_file)\n",
    "    original_test[\"target\"] = test_predictions\n",
    "    original_test[\"Id\"] = original_test[\"id\"]\n",
    "    result = original_test[[\"Id\", \"target\"]]\n",
    "    result.to_csv(save_path, index=False)\n",
    "\n",
    "def cross_validate_model(model, x, y, cv=10, scoring='r2'):\n",
    "    scores = cross_val_score(model, x, y, cv=cv, scoring=scoring)\n",
    "    return scores.mean()"
   ]
  },
  {
   "cell_type": "code",
   "execution_count": 170,
   "metadata": {},
   "outputs": [
    {
     "name": "stderr",
     "output_type": "stream",
     "text": [
      "/tmp/ipykernel_32217/1962207925.py:14: SettingWithCopyWarning: \n",
      "A value is trying to be set on a copy of a slice from a DataFrame.\n",
      "Try using .loc[row_indexer,col_indexer] = value instead\n",
      "\n",
      "See the caveats in the documentation: https://pandas.pydata.org/pandas-docs/stable/user_guide/indexing.html#returning-a-view-versus-a-copy\n",
      "  x[x[[\"ohe_parentspecies_apin\",\n",
      "/tmp/ipykernel_32217/1962207925.py:14: SettingWithCopyWarning: \n",
      "A value is trying to be set on a copy of a slice from a DataFrame\n",
      "\n",
      "See the caveats in the documentation: https://pandas.pydata.org/pandas-docs/stable/user_guide/indexing.html#returning-a-view-versus-a-copy\n",
      "  x[x[[\"ohe_parentspecies_apin\",\n",
      "/tmp/ipykernel_32217/1962207925.py:14: SettingWithCopyWarning: \n",
      "A value is trying to be set on a copy of a slice from a DataFrame.\n",
      "Try using .loc[row_indexer,col_indexer] = value instead\n",
      "\n",
      "See the caveats in the documentation: https://pandas.pydata.org/pandas-docs/stable/user_guide/indexing.html#returning-a-view-versus-a-copy\n",
      "  x[x[[\"ohe_parentspecies_apin\",\n",
      "/tmp/ipykernel_32217/1962207925.py:14: SettingWithCopyWarning: \n",
      "A value is trying to be set on a copy of a slice from a DataFrame\n",
      "\n",
      "See the caveats in the documentation: https://pandas.pydata.org/pandas-docs/stable/user_guide/indexing.html#returning-a-view-versus-a-copy\n",
      "  x[x[[\"ohe_parentspecies_apin\",\n",
      "/tmp/ipykernel_32217/1962207925.py:14: SettingWithCopyWarning: \n",
      "A value is trying to be set on a copy of a slice from a DataFrame.\n",
      "Try using .loc[row_indexer,col_indexer] = value instead\n",
      "\n",
      "See the caveats in the documentation: https://pandas.pydata.org/pandas-docs/stable/user_guide/indexing.html#returning-a-view-versus-a-copy\n",
      "  x[x[[\"ohe_parentspecies_apin\",\n",
      "/tmp/ipykernel_32217/1962207925.py:14: SettingWithCopyWarning: \n",
      "A value is trying to be set on a copy of a slice from a DataFrame\n",
      "\n",
      "See the caveats in the documentation: https://pandas.pydata.org/pandas-docs/stable/user_guide/indexing.html#returning-a-view-versus-a-copy\n",
      "  x[x[[\"ohe_parentspecies_apin\",\n"
     ]
    }
   ],
   "source": [
    "features = ['id', 'NumOfAtoms', 'NumOfC', 'NumOfO', 'NumOfN',\n",
    "       'NumHBondDonors', 'NumOfConfUsed', 'cc', 'ccco',\n",
    "       'hydroxyl_alkl', 'aldehyde', 'ketone', 'carboxylic_acid', 'ester',\n",
    "       'ether_alicyclic', 'nitrate', 'nitro', 'aromatic_hydroxyl',\n",
    "       'carbonylperoxynitrate', 'peroxide', 'hydroperoxide',\n",
    "       'carbonylperoxyacid', 'nitroester', 'trans_NumOfConf',\n",
    "       'trans_MW',\n",
    "       'ohe_parentspecies_apin', 'ohe_parentspecies_apin_decane',\n",
    "       'ohe_parentspecies_apin_decane_toluene',\n",
    "       'ohe_parentspecies_apin_toluene', 'ohe_parentspecies_decane',\n",
    "       'ohe_parentspecies_decane_toluene']\n",
    "target = ['pSat_Pa', 'trans_pSat_Pa']\n",
    "\n",
    "data_dir = Path(\"data\")\n",
    "train_data_path = data_dir / \"gecko_ml.csv\"\n",
    "test_data_path = data_dir / \"gecko_ml_test.csv\"\n",
    "original_x, original_y = prepare_data(train_data_path, features, target=target)\n",
    "x, y = prepare_data(train_data_path, features, target=target)\n",
    "x_test = prepare_data(test_data_path, features)\n",
    "\n",
    "x_train, x_val, y_train, y_val = train_test_split(x, y, test_size=0.3)\n",
    "\n",
    "y_train_org = y_train[target[0]]\n",
    "y_train_trans = y_train[target[1]]\n",
    "y_train_log10 = np.log10(unscale_orig_target(y_train_org))\n",
    "y_train_log10_scaled = scale(y_train_log10, y_train_log10.mean(), y_train_log10.std())\n",
    "\n",
    "y_val_org = y_val[target[0]]\n",
    "y_val_trans = y_val[target[1]]\n",
    "y_val_log10 = np.log10(unscale_orig_target(y_val_org))\n",
    "y_val_log10_scaled = scale(y_val_log10, y_val_log10.mean(), y_val_log10.std())\n",
    "\n",
    "x, y = shuffle(x, y)\n",
    "y_org = y[target[0]]\n",
    "y_trans = y[target[1]]\n",
    "y_log10 = np.log10(unscale_orig_target(y_org))\n",
    "y_log10_scaled = scale(y_log10, y_log10.mean(), y_log10.std())\n"
   ]
  },
  {
   "cell_type": "markdown",
   "metadata": {},
   "source": [
    "    \n",
    "### Dataset columns descriptions\n",
    "\n",
    "##### Original variables that were scaled:\n",
    "- **id** - A unique molecule index used in naming files\n",
    "\n",
    "- **pSat_Pa** - The saturation vapour pressure of the molecule calculated by COSMOtherm (Pa)\n",
    "- **MW** - The molecular weight of the molecule (g/mol).\n",
    "- **NumOfAtoms** - The number of atoms in the molecule\n",
    "- **NumOfC** - The number of carbon atoms in the molecule\n",
    "- **NumOfO** - The number of oxygen atoms in the molecul\n",
    "- **NumOfN** - The number of nitrogen atoms in the molecule\n",
    "- **NumHBondDonors** - “The number of hydrogen bond donors in the molecule, i.e. hydrogens bound to oxygen.”\n",
    "- **NumOfConf** - The number of stable conformers found and successfully calculated by COSMOconf.\n",
    "- **NumOfConfUsed** - The number of conformers used to calculate the thermodynamic properties.\n",
    "\n",
    "- **cc** - The number of non-aromatic C=C bounds found in the molecule.\n",
    "- **ccco** - The number of “C=C-C=O” structures found in non-aromatic rings in the molecule.\n",
    "- **hydroxyl_alkl** - The number of the alkylic hydroxyl groups found in the molecule.\n",
    "- **aldehyde** - The number of aldehyde groups in the molecule.\n",
    "- **ketone** - The number of ketone groups in the molecule.\n",
    "\n",
    "- **carboxylic_acid** - The number of carboxylic acid groups in the molecule.\n",
    "- **ester** - The number of ester groups in the molecule.\n",
    "- **ether_alicyclic** - The number of alicyclic ester groups in the molecule.\n",
    "- **nitrate** - The number of alicyclic nitrate groups in the molecule\n",
    "- **nitro** - The number of nitro ester groups in the molecule\n",
    "- **aromatic_hydroxyl** - The number of alicyclic aromatic hydroxyl groups in the molecule.\n",
    "- **carbonylperoxynitrate** - The number of carbonylperoxynitrate groups in the molecule.\n",
    "- **peroxide** - The number of peroxide groups in the molecule\n",
    "- **hydroperoxide** - The number of hydroperoxide groups in the molecule.\n",
    "- **carbonylperoxyacid** - The number of carbonylperoxyacid groups found in the molecule\n",
    "- **nitroester** - The number of nitroester groups found in the molecule\n",
    "- **parentspecies** - Either “decane”, “toluene”, “apin” for alpha-pinene or a combination of these connected by an underscore to indicate ambiguous descent. In 243 cases, the parent species is “None” because it was not possible to retrieve it.\n",
    "    \n",
    "\n",
    "##### Transformed or created variables (also scaled):\n",
    "                \n",
    "- **trans_NumOfConf**,    # NumOfConf to the power of 0.3           \n",
    "- **trans_MW**,           # Square root of trans_MW              \n",
    "- **trans_pSat_Pa**,      # log transformed pSat_Pa                  \n",
    "- **new_MW_hydroxyl_alkl_interaction**, #interaction term between MW and hydroxyl_alkl\n",
    "- **new_polarity_score**,  #polarity with assigning different weights to functional group features               \n",
    "- **new_num_pca_1**,      #First principal component for all variable with \"Num\" in names               \n",
    "- **new_num_pca_2**,      #Second principal component for all variable with \"Num\" in names                  \n",
    "\n",
    "#### Variables for the one hot encoding for parentspecies:\n",
    "- **ohe_parentspecies_apin**,               # parentspecies category apin\n",
    "- **ohe_parentspecies_apin_decane**,        # parentspecies category decane\n",
    "- **ohe_parentspecies_apin_decane_toluene**,# parentspecies category apin_decane_toluene\n",
    "- **ohe_parentspecies_apin_toluene**,       # parentspecies category apin_toluene\n",
    "- **ohe_parentspecies_decane**,             # parentspecies category decane\n",
    "- **ohe_parentspecies_decane_toluene**,     # parentspecies category decane_toluene"
   ]
  },
  {
   "cell_type": "markdown",
   "metadata": {},
   "source": [
    "# Model selection\n"
   ]
  },
  {
   "cell_type": "code",
   "execution_count": 228,
   "metadata": {},
   "outputs": [],
   "source": [
    "lin_reg = LinearRegression()\n",
    "elasticnet = ElasticNet(alpha=0.003, l1_ratio=1)\n",
    "rf = RandomForestRegressor()\n",
    "svr = SVR()\n",
    "gbr = GradientBoostingRegressor()"
   ]
  },
  {
   "cell_type": "code",
   "execution_count": 173,
   "metadata": {},
   "outputs": [
    {
     "name": "stdout",
     "output_type": "stream",
     "text": [
      "0.7095661569053759\n"
     ]
    }
   ],
   "source": [
    "scores = cross_val_score(lin_reg, x, y_log10, cv=10, scoring='r2')\n",
    "print(scores.mean())"
   ]
  },
  {
   "cell_type": "code",
   "execution_count": 219,
   "metadata": {},
   "outputs": [
    {
     "name": "stdout",
     "output_type": "stream",
     "text": [
      "0.0030016018911636893 0.5\n"
     ]
    }
   ],
   "source": [
    "elasticnetcv = ElasticNetCV(cv=10)\n",
    "elasticnetcv.fit(x.to_numpy(), y_log10.to_numpy())\n",
    "print(elasticnetcv.alpha_, elasticnetcv.l1_ratio_)"
   ]
  },
  {
   "cell_type": "code",
   "execution_count": 229,
   "metadata": {},
   "outputs": [
    {
     "name": "stdout",
     "output_type": "stream",
     "text": [
      "0.7079953226407778\n"
     ]
    }
   ],
   "source": [
    "scores = cross_val_score(elasticnet, x, y_log10, cv=10, scoring='r2')\n",
    "print(scores.mean())"
   ]
  },
  {
   "cell_type": "code",
   "execution_count": 174,
   "metadata": {},
   "outputs": [
    {
     "name": "stdout",
     "output_type": "stream",
     "text": [
      "0.7165979435672526\n"
     ]
    }
   ],
   "source": [
    "scores = cross_val_score(rf, x, y_log10, cv=10, scoring='r2')\n",
    "print(scores.mean())"
   ]
  },
  {
   "cell_type": "code",
   "execution_count": 176,
   "metadata": {},
   "outputs": [
    {
     "name": "stdout",
     "output_type": "stream",
     "text": [
      "0.7475439245520384\n"
     ]
    }
   ],
   "source": [
    "scores = cross_val_score(svr, x, y_log10, cv=10, scoring='r2')\n",
    "print(scores.mean())"
   ]
  },
  {
   "cell_type": "code",
   "execution_count": 175,
   "metadata": {},
   "outputs": [
    {
     "name": "stdout",
     "output_type": "stream",
     "text": [
      "0.7240028565283071\n"
     ]
    }
   ],
   "source": [
    "scores = cross_val_score(gbr, x, y_log10, cv=10, scoring='r2')\n",
    "print(scores.mean())\n"
   ]
  },
  {
   "cell_type": "code",
   "execution_count": 221,
   "metadata": {},
   "outputs": [
    {
     "data": {
      "text/html": [
       "<style>#sk-container-id-5 {color: black;}#sk-container-id-5 pre{padding: 0;}#sk-container-id-5 div.sk-toggleable {background-color: white;}#sk-container-id-5 label.sk-toggleable__label {cursor: pointer;display: block;width: 100%;margin-bottom: 0;padding: 0.3em;box-sizing: border-box;text-align: center;}#sk-container-id-5 label.sk-toggleable__label-arrow:before {content: \"▸\";float: left;margin-right: 0.25em;color: #696969;}#sk-container-id-5 label.sk-toggleable__label-arrow:hover:before {color: black;}#sk-container-id-5 div.sk-estimator:hover label.sk-toggleable__label-arrow:before {color: black;}#sk-container-id-5 div.sk-toggleable__content {max-height: 0;max-width: 0;overflow: hidden;text-align: left;background-color: #f0f8ff;}#sk-container-id-5 div.sk-toggleable__content pre {margin: 0.2em;color: black;border-radius: 0.25em;background-color: #f0f8ff;}#sk-container-id-5 input.sk-toggleable__control:checked~div.sk-toggleable__content {max-height: 200px;max-width: 100%;overflow: auto;}#sk-container-id-5 input.sk-toggleable__control:checked~label.sk-toggleable__label-arrow:before {content: \"▾\";}#sk-container-id-5 div.sk-estimator input.sk-toggleable__control:checked~label.sk-toggleable__label {background-color: #d4ebff;}#sk-container-id-5 div.sk-label input.sk-toggleable__control:checked~label.sk-toggleable__label {background-color: #d4ebff;}#sk-container-id-5 input.sk-hidden--visually {border: 0;clip: rect(1px 1px 1px 1px);clip: rect(1px, 1px, 1px, 1px);height: 1px;margin: -1px;overflow: hidden;padding: 0;position: absolute;width: 1px;}#sk-container-id-5 div.sk-estimator {font-family: monospace;background-color: #f0f8ff;border: 1px dotted black;border-radius: 0.25em;box-sizing: border-box;margin-bottom: 0.5em;}#sk-container-id-5 div.sk-estimator:hover {background-color: #d4ebff;}#sk-container-id-5 div.sk-parallel-item::after {content: \"\";width: 100%;border-bottom: 1px solid gray;flex-grow: 1;}#sk-container-id-5 div.sk-label:hover label.sk-toggleable__label {background-color: #d4ebff;}#sk-container-id-5 div.sk-serial::before {content: \"\";position: absolute;border-left: 1px solid gray;box-sizing: border-box;top: 0;bottom: 0;left: 50%;z-index: 0;}#sk-container-id-5 div.sk-serial {display: flex;flex-direction: column;align-items: center;background-color: white;padding-right: 0.2em;padding-left: 0.2em;position: relative;}#sk-container-id-5 div.sk-item {position: relative;z-index: 1;}#sk-container-id-5 div.sk-parallel {display: flex;align-items: stretch;justify-content: center;background-color: white;position: relative;}#sk-container-id-5 div.sk-item::before, #sk-container-id-5 div.sk-parallel-item::before {content: \"\";position: absolute;border-left: 1px solid gray;box-sizing: border-box;top: 0;bottom: 0;left: 50%;z-index: -1;}#sk-container-id-5 div.sk-parallel-item {display: flex;flex-direction: column;z-index: 1;position: relative;background-color: white;}#sk-container-id-5 div.sk-parallel-item:first-child::after {align-self: flex-end;width: 50%;}#sk-container-id-5 div.sk-parallel-item:last-child::after {align-self: flex-start;width: 50%;}#sk-container-id-5 div.sk-parallel-item:only-child::after {width: 0;}#sk-container-id-5 div.sk-dashed-wrapped {border: 1px dashed gray;margin: 0 0.4em 0.5em 0.4em;box-sizing: border-box;padding-bottom: 0.4em;background-color: white;}#sk-container-id-5 div.sk-label label {font-family: monospace;font-weight: bold;display: inline-block;line-height: 1.2em;}#sk-container-id-5 div.sk-label-container {text-align: center;}#sk-container-id-5 div.sk-container {/* jupyter's `normalize.less` sets `[hidden] { display: none; }` but bootstrap.min.css set `[hidden] { display: none !important; }` so we also need the `!important` here to be able to override the default hidden behavior on the sphinx rendered scikit-learn.org. See: https://github.com/scikit-learn/scikit-learn/issues/21755 */display: inline-block !important;position: relative;}#sk-container-id-5 div.sk-text-repr-fallback {display: none;}</style><div id=\"sk-container-id-5\" class=\"sk-top-container\"><div class=\"sk-text-repr-fallback\"><pre>LinearRegression()</pre><b>In a Jupyter environment, please rerun this cell to show the HTML representation or trust the notebook. <br />On GitHub, the HTML representation is unable to render, please try loading this page with nbviewer.org.</b></div><div class=\"sk-container\" hidden><div class=\"sk-item\"><div class=\"sk-estimator sk-toggleable\"><input class=\"sk-toggleable__control sk-hidden--visually\" id=\"sk-estimator-id-5\" type=\"checkbox\" checked><label for=\"sk-estimator-id-5\" class=\"sk-toggleable__label sk-toggleable__label-arrow\">LinearRegression</label><div class=\"sk-toggleable__content\"><pre>LinearRegression()</pre></div></div></div></div></div>"
      ],
      "text/plain": [
       "LinearRegression()"
      ]
     },
     "execution_count": 221,
     "metadata": {},
     "output_type": "execute_result"
    }
   ],
   "source": [
    "lin_reg.fit(x, y_log10)"
   ]
  },
  {
   "cell_type": "code",
   "execution_count": 227,
   "metadata": {},
   "outputs": [
    {
     "name": "stdout",
     "output_type": "stream",
     "text": [
      "[ 1.14148078e+00 -1.28795673e+00  1.18596877e+00  2.75097655e+11\n",
      "  1.10367931e+11  1.18437735e-01 -1.03238933e-01  2.31159347e-03\n",
      " -9.42531158e+10 -9.13101841e-02  6.03047712e-02 -5.73431870e+10\n",
      " -1.81827099e-01 -2.29384939e-01 -2.60023068e+11 -1.41465136e+11\n",
      " -5.09073151e+09 -1.74358481e+11 -5.62652084e-01 -7.56596966e+10\n",
      " -5.05910178e+10  5.60722466e-03 -6.81852776e-01 -9.52413547e-01\n",
      " -1.54636602e-03 -3.85981473e-01 -3.62054975e-01 -1.22185960e-01\n",
      " -5.23247177e-01  7.14952677e-01]\n"
     ]
    },
    {
     "data": {
      "text/plain": [
       "<matplotlib.collections.PathCollection at 0x7f2071cf5ed0>"
      ]
     },
     "execution_count": 227,
     "metadata": {},
     "output_type": "execute_result"
    },
    {
     "data": {
      "image/png": "[encoded data removed]",
      "text/plain": [
       "<Figure size 640x480 with 1 Axes>"
      ]
     },
     "metadata": {},
     "output_type": "display_data"
    }
   ],
   "source": [
    "to_plot = lin_reg.coef_\n",
    "print(to_plot)\n",
    "plt.scatter(np.arange(to_plot.size), to_plot)"
   ]
  },
  {
   "cell_type": "code",
   "execution_count": 230,
   "metadata": {},
   "outputs": [
    {
     "data": {
      "text/html": [
       "<style>#sk-container-id-6 {color: black;}#sk-container-id-6 pre{padding: 0;}#sk-container-id-6 div.sk-toggleable {background-color: white;}#sk-container-id-6 label.sk-toggleable__label {cursor: pointer;display: block;width: 100%;margin-bottom: 0;padding: 0.3em;box-sizing: border-box;text-align: center;}#sk-container-id-6 label.sk-toggleable__label-arrow:before {content: \"▸\";float: left;margin-right: 0.25em;color: #696969;}#sk-container-id-6 label.sk-toggleable__label-arrow:hover:before {color: black;}#sk-container-id-6 div.sk-estimator:hover label.sk-toggleable__label-arrow:before {color: black;}#sk-container-id-6 div.sk-toggleable__content {max-height: 0;max-width: 0;overflow: hidden;text-align: left;background-color: #f0f8ff;}#sk-container-id-6 div.sk-toggleable__content pre {margin: 0.2em;color: black;border-radius: 0.25em;background-color: #f0f8ff;}#sk-container-id-6 input.sk-toggleable__control:checked~div.sk-toggleable__content {max-height: 200px;max-width: 100%;overflow: auto;}#sk-container-id-6 input.sk-toggleable__control:checked~label.sk-toggleable__label-arrow:before {content: \"▾\";}#sk-container-id-6 div.sk-estimator input.sk-toggleable__control:checked~label.sk-toggleable__label {background-color: #d4ebff;}#sk-container-id-6 div.sk-label input.sk-toggleable__control:checked~label.sk-toggleable__label {background-color: #d4ebff;}#sk-container-id-6 input.sk-hidden--visually {border: 0;clip: rect(1px 1px 1px 1px);clip: rect(1px, 1px, 1px, 1px);height: 1px;margin: -1px;overflow: hidden;padding: 0;position: absolute;width: 1px;}#sk-container-id-6 div.sk-estimator {font-family: monospace;background-color: #f0f8ff;border: 1px dotted black;border-radius: 0.25em;box-sizing: border-box;margin-bottom: 0.5em;}#sk-container-id-6 div.sk-estimator:hover {background-color: #d4ebff;}#sk-container-id-6 div.sk-parallel-item::after {content: \"\";width: 100%;border-bottom: 1px solid gray;flex-grow: 1;}#sk-container-id-6 div.sk-label:hover label.sk-toggleable__label {background-color: #d4ebff;}#sk-container-id-6 div.sk-serial::before {content: \"\";position: absolute;border-left: 1px solid gray;box-sizing: border-box;top: 0;bottom: 0;left: 50%;z-index: 0;}#sk-container-id-6 div.sk-serial {display: flex;flex-direction: column;align-items: center;background-color: white;padding-right: 0.2em;padding-left: 0.2em;position: relative;}#sk-container-id-6 div.sk-item {position: relative;z-index: 1;}#sk-container-id-6 div.sk-parallel {display: flex;align-items: stretch;justify-content: center;background-color: white;position: relative;}#sk-container-id-6 div.sk-item::before, #sk-container-id-6 div.sk-parallel-item::before {content: \"\";position: absolute;border-left: 1px solid gray;box-sizing: border-box;top: 0;bottom: 0;left: 50%;z-index: -1;}#sk-container-id-6 div.sk-parallel-item {display: flex;flex-direction: column;z-index: 1;position: relative;background-color: white;}#sk-container-id-6 div.sk-parallel-item:first-child::after {align-self: flex-end;width: 50%;}#sk-container-id-6 div.sk-parallel-item:last-child::after {align-self: flex-start;width: 50%;}#sk-container-id-6 div.sk-parallel-item:only-child::after {width: 0;}#sk-container-id-6 div.sk-dashed-wrapped {border: 1px dashed gray;margin: 0 0.4em 0.5em 0.4em;box-sizing: border-box;padding-bottom: 0.4em;background-color: white;}#sk-container-id-6 div.sk-label label {font-family: monospace;font-weight: bold;display: inline-block;line-height: 1.2em;}#sk-container-id-6 div.sk-label-container {text-align: center;}#sk-container-id-6 div.sk-container {/* jupyter's `normalize.less` sets `[hidden] { display: none; }` but bootstrap.min.css set `[hidden] { display: none !important; }` so we also need the `!important` here to be able to override the default hidden behavior on the sphinx rendered scikit-learn.org. See: https://github.com/scikit-learn/scikit-learn/issues/21755 */display: inline-block !important;position: relative;}#sk-container-id-6 div.sk-text-repr-fallback {display: none;}</style><div id=\"sk-container-id-6\" class=\"sk-top-container\"><div class=\"sk-text-repr-fallback\"><pre>ElasticNet(alpha=0.003, l1_ratio=1)</pre><b>In a Jupyter environment, please rerun this cell to show the HTML representation or trust the notebook. <br />On GitHub, the HTML representation is unable to render, please try loading this page with nbviewer.org.</b></div><div class=\"sk-container\" hidden><div class=\"sk-item\"><div class=\"sk-estimator sk-toggleable\"><input class=\"sk-toggleable__control sk-hidden--visually\" id=\"sk-estimator-id-6\" type=\"checkbox\" checked><label for=\"sk-estimator-id-6\" class=\"sk-toggleable__label sk-toggleable__label-arrow\">ElasticNet</label><div class=\"sk-toggleable__content\"><pre>ElasticNet(alpha=0.003, l1_ratio=1)</pre></div></div></div></div></div>"
      ],
      "text/plain": [
       "ElasticNet(alpha=0.003, l1_ratio=1)"
      ]
     },
     "execution_count": 230,
     "metadata": {},
     "output_type": "execute_result"
    }
   ],
   "source": [
    "elasticnet.fit(x, y_log10)"
   ]
  },
  {
   "cell_type": "code",
   "execution_count": 231,
   "metadata": {},
   "outputs": [
    {
     "name": "stdout",
     "output_type": "stream",
     "text": [
      "[ 0.43725588 -1.06001012  0.          0.         -1.10721032  0.09717644\n",
      " -0.16026404 -0.00245045  0.         -0.          0.16611957 -0.29245287\n",
      " -0.02004181 -0.15739837  0.         -0.00983853 -0.02663001  0.33564678\n",
      " -0.29005366 -0.16091368 -0.11001858  0.04391152 -0.54919016 -0.20528496\n",
      " -0.         -0.         -0.         -0.         -0.47154775 -0.        ]\n"
     ]
    },
    {
     "data": {
      "text/plain": [
       "<matplotlib.collections.PathCollection at 0x7f2071ca1f90>"
      ]
     },
     "execution_count": 231,
     "metadata": {},
     "output_type": "execute_result"
    },
    {
     "data": {
      "image/png": "[encoded data removed]",
      "text/plain": [
       "<Figure size 640x480 with 1 Axes>"
      ]
     },
     "metadata": {},
     "output_type": "display_data"
    }
   ],
   "source": [
    "to_plot = elasticnet.coef_\n",
    "print(to_plot)\n",
    "plt.scatter(np.arange(to_plot.size), to_plot)"
   ]
  },
  {
   "cell_type": "code",
   "execution_count": 232,
   "metadata": {},
   "outputs": [
    {
     "name": "stdout",
     "output_type": "stream",
     "text": [
      "Index(['NumOfAtoms', 'NumOfC', 'NumHBondDonors', 'NumOfConfUsed', 'cc',\n",
      "       'ketone', 'carboxylic_acid', 'ether_alicyclic', 'carbonylperoxynitrate',\n",
      "       'peroxide', 'hydroperoxide', 'carbonylperoxyacid', 'trans_NumOfConf',\n",
      "       'trans_MW', 'ohe_parentspecies_decane'],\n",
      "      dtype='object')\n"
     ]
    }
   ],
   "source": [
    "importantfeats = original_x.columns[np.abs(to_plot) > 0.05]\n",
    "print(importantfeats)"
   ]
  },
  {
   "cell_type": "code",
   "execution_count": 234,
   "metadata": {},
   "outputs": [
    {
     "data": {
      "text/plain": [
       "0.7050401231442326"
      ]
     },
     "execution_count": 234,
     "metadata": {},
     "output_type": "execute_result"
    }
   ],
   "source": [
    "cross_validate_model(rf, x[importantfeats], y_log10)"
   ]
  },
  {
   "cell_type": "code",
   "execution_count": 235,
   "metadata": {},
   "outputs": [
    {
     "data": {
      "text/html": [
       "<style>#sk-container-id-7 {color: black;}#sk-container-id-7 pre{padding: 0;}#sk-container-id-7 div.sk-toggleable {background-color: white;}#sk-container-id-7 label.sk-toggleable__label {cursor: pointer;display: block;width: 100%;margin-bottom: 0;padding: 0.3em;box-sizing: border-box;text-align: center;}#sk-container-id-7 label.sk-toggleable__label-arrow:before {content: \"▸\";float: left;margin-right: 0.25em;color: #696969;}#sk-container-id-7 label.sk-toggleable__label-arrow:hover:before {color: black;}#sk-container-id-7 div.sk-estimator:hover label.sk-toggleable__label-arrow:before {color: black;}#sk-container-id-7 div.sk-toggleable__content {max-height: 0;max-width: 0;overflow: hidden;text-align: left;background-color: #f0f8ff;}#sk-container-id-7 div.sk-toggleable__content pre {margin: 0.2em;color: black;border-radius: 0.25em;background-color: #f0f8ff;}#sk-container-id-7 input.sk-toggleable__control:checked~div.sk-toggleable__content {max-height: 200px;max-width: 100%;overflow: auto;}#sk-container-id-7 input.sk-toggleable__control:checked~label.sk-toggleable__label-arrow:before {content: \"▾\";}#sk-container-id-7 div.sk-estimator input.sk-toggleable__control:checked~label.sk-toggleable__label {background-color: #d4ebff;}#sk-container-id-7 div.sk-label input.sk-toggleable__control:checked~label.sk-toggleable__label {background-color: #d4ebff;}#sk-container-id-7 input.sk-hidden--visually {border: 0;clip: rect(1px 1px 1px 1px);clip: rect(1px, 1px, 1px, 1px);height: 1px;margin: -1px;overflow: hidden;padding: 0;position: absolute;width: 1px;}#sk-container-id-7 div.sk-estimator {font-family: monospace;background-color: #f0f8ff;border: 1px dotted black;border-radius: 0.25em;box-sizing: border-box;margin-bottom: 0.5em;}#sk-container-id-7 div.sk-estimator:hover {background-color: #d4ebff;}#sk-container-id-7 div.sk-parallel-item::after {content: \"\";width: 100%;border-bottom: 1px solid gray;flex-grow: 1;}#sk-container-id-7 div.sk-label:hover label.sk-toggleable__label {background-color: #d4ebff;}#sk-container-id-7 div.sk-serial::before {content: \"\";position: absolute;border-left: 1px solid gray;box-sizing: border-box;top: 0;bottom: 0;left: 50%;z-index: 0;}#sk-container-id-7 div.sk-serial {display: flex;flex-direction: column;align-items: center;background-color: white;padding-right: 0.2em;padding-left: 0.2em;position: relative;}#sk-container-id-7 div.sk-item {position: relative;z-index: 1;}#sk-container-id-7 div.sk-parallel {display: flex;align-items: stretch;justify-content: center;background-color: white;position: relative;}#sk-container-id-7 div.sk-item::before, #sk-container-id-7 div.sk-parallel-item::before {content: \"\";position: absolute;border-left: 1px solid gray;box-sizing: border-box;top: 0;bottom: 0;left: 50%;z-index: -1;}#sk-container-id-7 div.sk-parallel-item {display: flex;flex-direction: column;z-index: 1;position: relative;background-color: white;}#sk-container-id-7 div.sk-parallel-item:first-child::after {align-self: flex-end;width: 50%;}#sk-container-id-7 div.sk-parallel-item:last-child::after {align-self: flex-start;width: 50%;}#sk-container-id-7 div.sk-parallel-item:only-child::after {width: 0;}#sk-container-id-7 div.sk-dashed-wrapped {border: 1px dashed gray;margin: 0 0.4em 0.5em 0.4em;box-sizing: border-box;padding-bottom: 0.4em;background-color: white;}#sk-container-id-7 div.sk-label label {font-family: monospace;font-weight: bold;display: inline-block;line-height: 1.2em;}#sk-container-id-7 div.sk-label-container {text-align: center;}#sk-container-id-7 div.sk-container {/* jupyter's `normalize.less` sets `[hidden] { display: none; }` but bootstrap.min.css set `[hidden] { display: none !important; }` so we also need the `!important` here to be able to override the default hidden behavior on the sphinx rendered scikit-learn.org. See: https://github.com/scikit-learn/scikit-learn/issues/21755 */display: inline-block !important;position: relative;}#sk-container-id-7 div.sk-text-repr-fallback {display: none;}</style><div id=\"sk-container-id-7\" class=\"sk-top-container\"><div class=\"sk-text-repr-fallback\"><pre>RandomForestRegressor()</pre><b>In a Jupyter environment, please rerun this cell to show the HTML representation or trust the notebook. <br />On GitHub, the HTML representation is unable to render, please try loading this page with nbviewer.org.</b></div><div class=\"sk-container\" hidden><div class=\"sk-item\"><div class=\"sk-estimator sk-toggleable\"><input class=\"sk-toggleable__control sk-hidden--visually\" id=\"sk-estimator-id-7\" type=\"checkbox\" checked><label for=\"sk-estimator-id-7\" class=\"sk-toggleable__label sk-toggleable__label-arrow\">RandomForestRegressor</label><div class=\"sk-toggleable__content\"><pre>RandomForestRegressor()</pre></div></div></div></div></div>"
      ],
      "text/plain": [
       "RandomForestRegressor()"
      ]
     },
     "execution_count": 235,
     "metadata": {},
     "output_type": "execute_result"
    }
   ],
   "source": [
    "rf.fit(x[importantfeats], y_log10)"
   ]
  },
  {
   "cell_type": "code",
   "execution_count": 238,
   "metadata": {},
   "outputs": [],
   "source": [
    "preds = rf.predict(x_test[importantfeats])\n",
    "save_test_predictions(preds, \"rf_selected_feats_log10.csv\", test_data_path)"
   ]
  },
  {
   "cell_type": "code",
   "execution_count": 239,
   "metadata": {},
   "outputs": [
    {
     "data": {
      "text/html": [
       "<style>#sk-container-id-8 {color: black;}#sk-container-id-8 pre{padding: 0;}#sk-container-id-8 div.sk-toggleable {background-color: white;}#sk-container-id-8 label.sk-toggleable__label {cursor: pointer;display: block;width: 100%;margin-bottom: 0;padding: 0.3em;box-sizing: border-box;text-align: center;}#sk-container-id-8 label.sk-toggleable__label-arrow:before {content: \"▸\";float: left;margin-right: 0.25em;color: #696969;}#sk-container-id-8 label.sk-toggleable__label-arrow:hover:before {color: black;}#sk-container-id-8 div.sk-estimator:hover label.sk-toggleable__label-arrow:before {color: black;}#sk-container-id-8 div.sk-toggleable__content {max-height: 0;max-width: 0;overflow: hidden;text-align: left;background-color: #f0f8ff;}#sk-container-id-8 div.sk-toggleable__content pre {margin: 0.2em;color: black;border-radius: 0.25em;background-color: #f0f8ff;}#sk-container-id-8 input.sk-toggleable__control:checked~div.sk-toggleable__content {max-height: 200px;max-width: 100%;overflow: auto;}#sk-container-id-8 input.sk-toggleable__control:checked~label.sk-toggleable__label-arrow:before {content: \"▾\";}#sk-container-id-8 div.sk-estimator input.sk-toggleable__control:checked~label.sk-toggleable__label {background-color: #d4ebff;}#sk-container-id-8 div.sk-label input.sk-toggleable__control:checked~label.sk-toggleable__label {background-color: #d4ebff;}#sk-container-id-8 input.sk-hidden--visually {border: 0;clip: rect(1px 1px 1px 1px);clip: rect(1px, 1px, 1px, 1px);height: 1px;margin: -1px;overflow: hidden;padding: 0;position: absolute;width: 1px;}#sk-container-id-8 div.sk-estimator {font-family: monospace;background-color: #f0f8ff;border: 1px dotted black;border-radius: 0.25em;box-sizing: border-box;margin-bottom: 0.5em;}#sk-container-id-8 div.sk-estimator:hover {background-color: #d4ebff;}#sk-container-id-8 div.sk-parallel-item::after {content: \"\";width: 100%;border-bottom: 1px solid gray;flex-grow: 1;}#sk-container-id-8 div.sk-label:hover label.sk-toggleable__label {background-color: #d4ebff;}#sk-container-id-8 div.sk-serial::before {content: \"\";position: absolute;border-left: 1px solid gray;box-sizing: border-box;top: 0;bottom: 0;left: 50%;z-index: 0;}#sk-container-id-8 div.sk-serial {display: flex;flex-direction: column;align-items: center;background-color: white;padding-right: 0.2em;padding-left: 0.2em;position: relative;}#sk-container-id-8 div.sk-item {position: relative;z-index: 1;}#sk-container-id-8 div.sk-parallel {display: flex;align-items: stretch;justify-content: center;background-color: white;position: relative;}#sk-container-id-8 div.sk-item::before, #sk-container-id-8 div.sk-parallel-item::before {content: \"\";position: absolute;border-left: 1px solid gray;box-sizing: border-box;top: 0;bottom: 0;left: 50%;z-index: -1;}#sk-container-id-8 div.sk-parallel-item {display: flex;flex-direction: column;z-index: 1;position: relative;background-color: white;}#sk-container-id-8 div.sk-parallel-item:first-child::after {align-self: flex-end;width: 50%;}#sk-container-id-8 div.sk-parallel-item:last-child::after {align-self: flex-start;width: 50%;}#sk-container-id-8 div.sk-parallel-item:only-child::after {width: 0;}#sk-container-id-8 div.sk-dashed-wrapped {border: 1px dashed gray;margin: 0 0.4em 0.5em 0.4em;box-sizing: border-box;padding-bottom: 0.4em;background-color: white;}#sk-container-id-8 div.sk-label label {font-family: monospace;font-weight: bold;display: inline-block;line-height: 1.2em;}#sk-container-id-8 div.sk-label-container {text-align: center;}#sk-container-id-8 div.sk-container {/* jupyter's `normalize.less` sets `[hidden] { display: none; }` but bootstrap.min.css set `[hidden] { display: none !important; }` so we also need the `!important` here to be able to override the default hidden behavior on the sphinx rendered scikit-learn.org. See: https://github.com/scikit-learn/scikit-learn/issues/21755 */display: inline-block !important;position: relative;}#sk-container-id-8 div.sk-text-repr-fallback {display: none;}</style><div id=\"sk-container-id-8\" class=\"sk-top-container\"><div class=\"sk-text-repr-fallback\"><pre>SVR()</pre><b>In a Jupyter environment, please rerun this cell to show the HTML representation or trust the notebook. <br />On GitHub, the HTML representation is unable to render, please try loading this page with nbviewer.org.</b></div><div class=\"sk-container\" hidden><div class=\"sk-item\"><div class=\"sk-estimator sk-toggleable\"><input class=\"sk-toggleable__control sk-hidden--visually\" id=\"sk-estimator-id-8\" type=\"checkbox\" checked><label for=\"sk-estimator-id-8\" class=\"sk-toggleable__label sk-toggleable__label-arrow\">SVR</label><div class=\"sk-toggleable__content\"><pre>SVR()</pre></div></div></div></div></div>"
      ],
      "text/plain": [
       "SVR()"
      ]
     },
     "execution_count": 239,
     "metadata": {},
     "output_type": "execute_result"
    }
   ],
   "source": [
    "svr.fit(x[importantfeats], y_log10)"
   ]
  },
  {
   "cell_type": "code",
   "execution_count": 240,
   "metadata": {},
   "outputs": [],
   "source": [
    "\n",
    "preds = svr.predict(x_test[importantfeats])\n",
    "answ = unscale(preds, y_log10.mean(), y_log10.std())\n",
    "save_test_predictions(preds, \"predictions/svr_selected_feats_log10.csv\", test_data_path)"
   ]
  }
 ],
 "metadata": {
  "kernelspec": {
   "display_name": "venv",
   "language": "python",
   "name": "python3"
  },
  "language_info": {
   "codemirror_mode": {
    "name": "ipython",
    "version": 3
   },
   "file_extension": ".py",
   "mimetype": "text/x-python",
   "name": "python",
   "nbconvert_exporter": "python",
   "pygments_lexer": "ipython3",
   "version": "3.11.4"
  }
 },
 "nbformat": 4,
 "nbformat_minor": 2
}
