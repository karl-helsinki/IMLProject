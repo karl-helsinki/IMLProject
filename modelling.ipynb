{
 "cells": [
  {
   "cell_type": "markdown",
   "metadata": {},
   "source": [
    "# Gecko dataset modelling"
   ]
  },
  {
   "cell_type": "markdown",
   "metadata": {},
   "source": [
    "    \n",
    "### Dataset columns descriptions\n",
    "\n",
    "##### Original variables that were scaled:\n",
    "- **id** - A unique molecule index used in naming files\n",
    "\n",
    "- **pSat_Pa** - The saturation vapour pressure of the molecule calculated by COSMOtherm (Pa)\n",
    "- **MW** - The molecular weight of the molecule (g/mol).\n",
    "- **NumOfAtoms** - The number of atoms in the molecule\n",
    "- **NumOfC** - The number of carbon atoms in the molecule\n",
    "- **NumOfO** - The number of oxygen atoms in the molecul\n",
    "- **NumOfN** - The number of nitrogen atoms in the molecule\n",
    "- **NumHBondDonors** - “The number of hydrogen bond donors in the molecule, i.e. hydrogens bound to oxygen.”\n",
    "- **NumOfConf** - The number of stable conformers found and successfully calculated by COSMOconf.\n",
    "- **NumOfConfUsed** - The number of conformers used to calculate the thermodynamic properties.\n",
    "\n",
    "- **cc** - The number of non-aromatic C=C bounds found in the molecule.\n",
    "- **ccco** - The number of “C=C-C=O” structures found in non-aromatic rings in the molecule.\n",
    "- **hydroxyl_alkl** - The number of the alkylic hydroxyl groups found in the molecule.\n",
    "- **aldehyde** - The number of aldehyde groups in the molecule.\n",
    "- **ketone** - The number of ketone groups in the molecule.\n",
    "\n",
    "- **carboxylic_acid** - The number of carboxylic acid groups in the molecule.\n",
    "- **ester** - The number of ester groups in the molecule.\n",
    "- **ether_alicyclic** - The number of alicyclic ester groups in the molecule.\n",
    "- **nitrate** - The number of alicyclic nitrate groups in the molecule\n",
    "- **nitro** - The number of nitro ester groups in the molecule\n",
    "- **aromatic_hydroxyl** - The number of alicyclic aromatic hydroxyl groups in the molecule.\n",
    "- **carbonylperoxynitrate** - The number of carbonylperoxynitrate groups in the molecule.\n",
    "- **peroxide** - The number of peroxide groups in the molecule\n",
    "- **hydroperoxide** - The number of hydroperoxide groups in the molecule.\n",
    "- **carbonylperoxyacid** - The number of carbonylperoxyacid groups found in the molecule\n",
    "- **nitroester** - The number of nitroester groups found in the molecule\n",
    "- **parentspecies** - Either “decane”, “toluene”, “apin” for alpha-pinene or a combination of these connected by an underscore to indicate ambiguous descent. In 243 cases, the parent species is “None” because it was not possible to retrieve it.\n",
    "    \n",
    "\n",
    "##### Transformed or created variables (also scaled):\n",
    "                \n",
    "- **trans_NumOfConf** - NumOfConf to the power of 0.3           \n",
    "- **trans_MW** - Square root of trans_MW              \n",
    "- **trans_pSat_Pa** - log transformed pSat_Pa                  \n",
    "- **new_MW_hydroxyl_alkl_interaction** - interaction term between MW and hydroxyl_alkl\n",
    "- **new_polarity_score** - polarity with assigning different weights to functional group features               \n",
    "- **new_num_pca_1** - First principal component for all variable with \"Num\" in names               \n",
    "- **new_num_pca_2** - Second principal component for all variable with \"Num\" in names                  \n",
    "\n",
    "#### Variables for the one hot encoding for parentspecies:\n",
    "- **ohe_parentspecies_apin** - parentspecies category apin\n",
    "- **ohe_parentspecies_apin_decane** - parentspecies category decane\n",
    "- **ohe_parentspecies_apin_decane_toluene** - parentspecies category apin_decane_toluene\n",
    "- **ohe_parentspecies_apin_toluene** - parentspecies category apin_toluene\n",
    "- **ohe_parentspecies_decane** - parentspecies category decane\n",
    "- **ohe_parentspecies_decane_toluene** - parentspecies category decane_toluene"
   ]
  },
  {
   "cell_type": "code",
   "execution_count": 1,
   "metadata": {},
   "outputs": [],
   "source": [
    "# Import required packages\n",
    "from pathlib import Path\n",
    "\n",
    "import numpy as np\n",
    "import pandas as pd\n",
    "import matplotlib.pyplot as plt\n",
    "\n",
    "from sklearn.model_selection import cross_val_score\n",
    "from sklearn.linear_model import LinearRegression, ElasticNet, ElasticNetCV\n",
    "from sklearn.ensemble import RandomForestRegressor, GradientBoostingRegressor\n",
    "from sklearn.svm import SVR\n",
    "from sklearn.model_selection import train_test_split\n",
    "from sklearn.utils import shuffle\n",
    "from sklearn.metrics import r2_score, mean_squared_error\n",
    "from sklearn.feature_selection import f_regression, SelectKBest\n",
    "from sklearn.decomposition import PCA, KernelPCA\n",
    "\n",
    "data_dir = Path(\"data\")\n",
    "train_data_path = data_dir / \"gecko_ml.csv\"\n",
    "test_data_path = data_dir / \"gecko_ml_test.csv\""
   ]
  },
  {
   "cell_type": "code",
   "execution_count": 2,
   "metadata": {},
   "outputs": [],
   "source": [
    "def prepare_data(path: Path, features: list, target: list=None):\n",
    "    \"\"\"Load data from the given path, select required features, preprocess the data\n",
    "    and if needed select the target\n",
    "    \"\"\"\n",
    "    dataset = pd.read_csv(path)\n",
    "    if not target:\n",
    "        # Test dataset lacks this column, but it is present in the training set\n",
    "        dataset[\"ohe_parentspecies_decane_toluene\"] = 0.0\n",
    "\n",
    "    x = dataset[features]\n",
    "    \n",
    "    # One hot encoding of parentspecies column has Nan values, \n",
    "    # I decided to keep the rows with Nans and set each of the ohe* variables to one \n",
    "    x[x[[\"ohe_parentspecies_apin\",\n",
    "    \"ohe_parentspecies_apin_decane\",\n",
    "    \"ohe_parentspecies_apin_decane_toluene\",\n",
    "    \"ohe_parentspecies_apin_toluene\",\n",
    "    \"ohe_parentspecies_decane\",\n",
    "    \"ohe_parentspecies_decane_toluene\"]].isna()] = 1.0\n",
    "\n",
    "    # id column is not a meanigful feature\n",
    "    x = x.drop(\"id\", axis=1)\n",
    "    if target:\n",
    "        y = dataset[target]\n",
    "        return x, y\n",
    "    else:\n",
    "        return x\n",
    "    \n",
    "def transform_predictions(predictions):\n",
    "    \"\"\"Reverse transformation applied to the target variable. First unscales the variable based on the mean and std values from the training set\n",
    "    then applies exp function. Verified to work properly on the train set.\"\"\"\n",
    "    df = pd.read_csv(\"data/train.csv\")\n",
    "    orig_log_mean = np.log(df[\"pSat_Pa\"]).mean()\n",
    "    orig_log_std = np.log(df[\"pSat_Pa\"]).std()\n",
    "    unscaled = unscale(predictions, orig_log_mean, orig_log_std)\n",
    "    return np.exp(unscaled)\n",
    "\n",
    "def unscale_orig_target(target):\n",
    "    \"\"\"Unscale the value of pSat_Pa to obtain the original values. Verified to work properly for the train set.\"\"\"\n",
    "    df = pd.read_csv(\"data/train.csv\")\n",
    "    orig_mean = df[\"pSat_Pa\"].mean()\n",
    "    orig_std = df[\"pSat_Pa\"].std()\n",
    "    return unscale(target, orig_mean, orig_std)\n",
    "\n",
    "def unscale(variable, mean, std):\n",
    "    return std * variable + mean\n",
    "\n",
    "def scale(variable, mean, std):\n",
    "    return (variable - mean) / std\n",
    "\n",
    "def save_test_predictions(test_predictions, save_path, original_test_file):\n",
    "    original_test = pd.read_csv(original_test_file)\n",
    "    original_test[\"target\"] = test_predictions\n",
    "    original_test[\"Id\"] = original_test[\"id\"]\n",
    "    result = original_test[[\"Id\", \"target\"]]\n",
    "    result.to_csv(save_path, index=False)\n",
    "\n",
    "def cross_validate_model(model, x, y, cv=10, scoring='r2'):\n",
    "    scores = cross_val_score(model, x, y, cv=cv, scoring=scoring)\n",
    "    return scores.mean()\n",
    "\n",
    "\n",
    "def find_best_feature_subset(coeff, model, x, y, start=0):\n",
    "    abs_coeff = np.abs(coeff)\n",
    "    search_space = np.sort(abs_coeff)[start:-1][::-1]\n",
    "    search_space = search_space[search_space != 0] # don't use features with zero coefficents\n",
    "    scores = []\n",
    "    feats = []\n",
    "    for i, val in enumerate(search_space):\n",
    "        selected_feats = x.columns[abs_coeff >= val]\n",
    "        if selected_feats.size == 0:\n",
    "            continue\n",
    "        scores.append(cross_validate_model(model, x[selected_feats], y, cv=5))\n",
    "        feats.append(selected_feats.values)\n",
    "        # print(f\"Num features: {selected_feats.size}, current score: {scores[-1]}\")\n",
    "    max_score = np.max(scores)\n",
    "    best_feats = feats[np.argmax(scores)]\n",
    "    return best_feats, max_score, feats, scores\n",
    "\n",
    "def validate_models(models: dict, x, y, test_name=\"baseline\"):\n",
    "    result = []\n",
    "    for name, model in models.items():\n",
    "        print(f\"Validating model {name}\")\n",
    "        result.append(cross_validate_model(model, x, y))\n",
    "        \n",
    "    return pd.DataFrame({test_name:result}, index=models.keys())\n",
    "\n",
    "def load_x_y(features, target=\"log10\"):\n",
    "    dependant = ['pSat_Pa', 'trans_pSat_Pa']\n",
    "    x, y = prepare_data(train_data_path, features, target=dependant)\n",
    "    x, y = shuffle(x, y)\n",
    "    y_org = y[dependant[0]]\n",
    "    y_trans = y[dependant[1]]\n",
    "    y_log10 = np.log10(unscale_orig_target(y_org))\n",
    "    y_log10_scaled = scale(y_log10, y_log10.mean(), y_log10.std())\n",
    "    if target == \"original\":\n",
    "        return x, y_org\n",
    "    elif target == \"transformed\":\n",
    "        return x, y_trans\n",
    "    elif target == \"log10\":\n",
    "        return x, y_log10\n",
    "    elif target == \"log10_scaled\":\n",
    "        return x, y_log10_scaled\n",
    "    else:\n",
    "        raise KeyError\n",
    "    \n",
    "def _feature_selection(coef, model, x, y, k):\n",
    "    best = find_best_feature_subset(coef, model, x, y)\n",
    "    best_feats, best_feats_score, feats, feats_scores = best\n",
    "    if k == 1:\n",
    "        return best_feats, np.std(feats_scores)\n",
    "    else:\n",
    "        sortedsargs = np.argsort(feats_scores)[-k:]\n",
    "        return feats[sortedsargs[::-1]], feats_scores[sortedsargs[::-1]]\n",
    "\n",
    "def linear_model_feature_selection(models, x, y, k=1):\n",
    "    models[\"elasticnet\"].fit(x, y)\n",
    "    return _feature_selection(models[\"elasticnet\"].coef_, models[\"lin_reg\"], x, y, k)\n",
    "\n",
    "def selectkbest_feature_selection(models, x, y, k=1):\n",
    "    fs = SelectKBest(f_regression, k='all')\n",
    "    fs.fit(x, y)\n",
    "    return _feature_selection(fs.scores_, models[\"lin_reg\"], x, y, k)\n",
    "\n",
    "def save_feats(feats, filename):\n",
    "    df = pd.DataFrame([], index=feats)\n",
    "    df.to_csv(f\"features/{filename}\")\n",
    "\n",
    "def find_best_model(models):\n",
    "    features = ['id', 'NumOfAtoms', 'NumOfC', 'NumOfO', 'NumOfN',\n",
    "        'NumHBondDonors', 'NumOfConfUsed', 'cc', 'ccco',\n",
    "        'hydroxyl_alkl', 'aldehyde', 'ketone', 'carboxylic_acid', 'ester',\n",
    "        'ether_alicyclic', 'nitrate', 'nitro', 'aromatic_hydroxyl',\n",
    "        'carbonylperoxynitrate', 'peroxide', 'hydroperoxide',\n",
    "        'carbonylperoxyacid', 'nitroester', 'trans_NumOfConf',\n",
    "        'trans_MW',\n",
    "        'ohe_parentspecies_apin', 'ohe_parentspecies_apin_decane',\n",
    "        'ohe_parentspecies_apin_decane_toluene',\n",
    "        'ohe_parentspecies_apin_toluene', 'ohe_parentspecies_decane',\n",
    "        'ohe_parentspecies_decane_toluene']\n",
    "    features_full = ['id', 'NumOfAtoms', 'NumOfC', 'NumOfO', 'NumOfN',\n",
    "        'NumHBondDonors', 'NumOfConfUsed', 'cc', 'ccco',\n",
    "        'hydroxyl_alkl', 'aldehyde', 'ketone', 'carboxylic_acid', 'ester',\n",
    "        'ether_alicyclic', 'nitrate', 'nitro', 'aromatic_hydroxyl',\n",
    "        'carbonylperoxynitrate', 'peroxide', 'hydroperoxide',\n",
    "        'carbonylperoxyacid', 'nitroester', 'trans_NumOfConf',\n",
    "        'trans_MW', 'new_MW_hydroxyl_alkl_interaction',\n",
    "        'ohe_parentspecies_apin', 'ohe_parentspecies_apin_decane',\n",
    "        'ohe_parentspecies_apin_decane_toluene', 'new_polarity_score', 'new_num_pca_1', 'new_num_pca_2',\n",
    "        'ohe_parentspecies_apin_toluene', 'ohe_parentspecies_decane',\n",
    "        'ohe_parentspecies_decane_toluene']\n",
    "    x, y = load_x_y(features_full)\n",
    "\n",
    "    lin_feats, lin_std = linear_model_feature_selection(models, x, y)\n",
    "    skb_feats, skb_std = selectkbest_feature_selection(models, x, y)\n",
    "    print(f\"Lin feats:\\n {lin_feats}\")\n",
    "    print(f\"SKB feats:\\n {skb_feats}\")\n",
    "    print(lin_std, skb_std)\n",
    "    lin_x = x[lin_feats]\n",
    "    skb_x = x[skb_feats]\n",
    "    lin_scores = validate_models(models, lin_x, y)\n",
    "    skb_scores = validate_models(models, skb_x, y)\n",
    "    print(lin_scores)\n",
    "    print(skb_scores)\n",
    "    # save_feats(lin_feats, f\"lin_svrscore_{lin_scores['svr']:0.4f}.csv\" )\n",
    "    # save_feats(skb_feats, f\"skb_svrscore_{skb_scores['svr']:0.4f}.csv\" )\n",
    "    return lin_feats, skb_feats\n",
    "\n",
    "def generate_test_preds(model, feature_dir='features', pred_dir='predictions'):\n",
    "    features_full = ['id', 'NumOfAtoms', 'NumOfC', 'NumOfO', 'NumOfN',\n",
    "        'NumHBondDonors', 'NumOfConfUsed', 'cc', 'ccco',\n",
    "        'hydroxyl_alkl', 'aldehyde', 'ketone', 'carboxylic_acid', 'ester',\n",
    "        'ether_alicyclic', 'nitrate', 'nitro', 'aromatic_hydroxyl',\n",
    "        'carbonylperoxynitrate', 'peroxide', 'hydroperoxide',\n",
    "        'carbonylperoxyacid', 'nitroester', 'trans_NumOfConf',\n",
    "        'trans_MW', 'new_MW_hydroxyl_alkl_interaction',\n",
    "        'ohe_parentspecies_apin', 'ohe_parentspecies_apin_decane',\n",
    "        'ohe_parentspecies_apin_decane_toluene', 'new_polarity_score', 'new_num_pca_1', 'new_num_pca_2',\n",
    "        'ohe_parentspecies_apin_toluene', 'ohe_parentspecies_decane',\n",
    "        'ohe_parentspecies_decane_toluene']\n",
    "    x, y = load_x_y(features_full)\n",
    "    x_test = prepare_data(test_data_path, features_full)\n",
    "    \n",
    "    ft_dir = Path(feature_dir)\n",
    "    for file in ft_dir.glob(\"*\"):\n",
    "        feats = pd.read_csv(file).iloc[:, 0]\n",
    "        model.fit(x[feats], y)\n",
    "        preds = model.predict(x_test[feats])\n",
    "        save_test_predictions(preds, f\"{pred_dir}/{file.name}\", test_data_path)"
   ]
  },
  {
   "cell_type": "code",
   "execution_count": 3,
   "metadata": {},
   "outputs": [
    {
     "data": {
      "text/plain": [
       "Index(['id', 'pSat_Pa', 'MW', 'NumOfAtoms', 'NumOfC', 'NumOfO', 'NumOfN',\n",
       "       'NumHBondDonors', 'NumOfConf', 'NumOfConfUsed', 'cc', 'ccco',\n",
       "       'hydroxyl_alkl', 'aldehyde', 'ketone', 'carboxylic_acid', 'ester',\n",
       "       'ether_alicyclic', 'nitrate', 'nitro', 'aromatic_hydroxyl',\n",
       "       'carbonylperoxynitrate', 'peroxide', 'hydroperoxide',\n",
       "       'carbonylperoxyacid', 'nitroester', 'parentspecies', 'trans_NumOfConf',\n",
       "       'trans_MW', 'trans_pSat_Pa', 'new_MW_hydroxyl_alkl_interaction',\n",
       "       'new_polarity_score', 'new_num_pca_1', 'new_num_pca_2',\n",
       "       'ohe_parentspecies_apin', 'ohe_parentspecies_apin_decane',\n",
       "       'ohe_parentspecies_apin_decane_toluene',\n",
       "       'ohe_parentspecies_apin_toluene', 'ohe_parentspecies_decane',\n",
       "       'ohe_parentspecies_decane_toluene', 'trans_log10_noscale_pSat_Pa'],\n",
       "      dtype='object')"
      ]
     },
     "execution_count": 3,
     "metadata": {},
     "output_type": "execute_result"
    }
   ],
   "source": [
    "df = pd.read_csv(train_data_path)\n",
    "df.columns"
   ]
  },
  {
   "cell_type": "code",
   "execution_count": 3,
   "metadata": {},
   "outputs": [
    {
     "name": "stderr",
     "output_type": "stream",
     "text": [
      "/tmp/ipykernel_11534/3333721820.py:14: SettingWithCopyWarning: \n",
      "A value is trying to be set on a copy of a slice from a DataFrame.\n",
      "Try using .loc[row_indexer,col_indexer] = value instead\n",
      "\n",
      "See the caveats in the documentation: https://pandas.pydata.org/pandas-docs/stable/user_guide/indexing.html#returning-a-view-versus-a-copy\n",
      "  x[x[[\"ohe_parentspecies_apin\",\n",
      "/tmp/ipykernel_11534/3333721820.py:14: SettingWithCopyWarning: \n",
      "A value is trying to be set on a copy of a slice from a DataFrame\n",
      "\n",
      "See the caveats in the documentation: https://pandas.pydata.org/pandas-docs/stable/user_guide/indexing.html#returning-a-view-versus-a-copy\n",
      "  x[x[[\"ohe_parentspecies_apin\",\n",
      "/tmp/ipykernel_11534/3333721820.py:14: SettingWithCopyWarning: \n",
      "A value is trying to be set on a copy of a slice from a DataFrame.\n",
      "Try using .loc[row_indexer,col_indexer] = value instead\n",
      "\n",
      "See the caveats in the documentation: https://pandas.pydata.org/pandas-docs/stable/user_guide/indexing.html#returning-a-view-versus-a-copy\n",
      "  x[x[[\"ohe_parentspecies_apin\",\n",
      "/tmp/ipykernel_11534/3333721820.py:14: SettingWithCopyWarning: \n",
      "A value is trying to be set on a copy of a slice from a DataFrame\n",
      "\n",
      "See the caveats in the documentation: https://pandas.pydata.org/pandas-docs/stable/user_guide/indexing.html#returning-a-view-versus-a-copy\n",
      "  x[x[[\"ohe_parentspecies_apin\",\n",
      "/tmp/ipykernel_11534/3333721820.py:14: SettingWithCopyWarning: \n",
      "A value is trying to be set on a copy of a slice from a DataFrame.\n",
      "Try using .loc[row_indexer,col_indexer] = value instead\n",
      "\n",
      "See the caveats in the documentation: https://pandas.pydata.org/pandas-docs/stable/user_guide/indexing.html#returning-a-view-versus-a-copy\n",
      "  x[x[[\"ohe_parentspecies_apin\",\n",
      "/tmp/ipykernel_11534/3333721820.py:14: SettingWithCopyWarning: \n",
      "A value is trying to be set on a copy of a slice from a DataFrame\n",
      "\n",
      "See the caveats in the documentation: https://pandas.pydata.org/pandas-docs/stable/user_guide/indexing.html#returning-a-view-versus-a-copy\n",
      "  x[x[[\"ohe_parentspecies_apin\",\n"
     ]
    }
   ],
   "source": [
    "features = ['id', 'NumOfAtoms', 'NumOfC', 'NumOfO', 'NumOfN',\n",
    "       'NumHBondDonors', 'NumOfConfUsed', 'cc', 'ccco',\n",
    "       'hydroxyl_alkl', 'aldehyde', 'ketone', 'carboxylic_acid', 'ester',\n",
    "       'ether_alicyclic', 'nitrate', 'nitro', 'aromatic_hydroxyl',\n",
    "       'carbonylperoxynitrate', 'peroxide', 'hydroperoxide',\n",
    "       'carbonylperoxyacid', 'nitroester', 'trans_NumOfConf',\n",
    "       'trans_MW',\n",
    "       'ohe_parentspecies_apin', 'ohe_parentspecies_apin_decane',\n",
    "       'ohe_parentspecies_apin_decane_toluene',\n",
    "       'ohe_parentspecies_apin_toluene', 'ohe_parentspecies_decane',\n",
    "       'ohe_parentspecies_decane_toluene']\n",
    "target = ['pSat_Pa', 'trans_pSat_Pa', 'trans_log10_noscale_pSat_Pa']\n",
    "\n",
    "\n",
    "original_x, original_y = prepare_data(train_data_path, features, target=target)\n",
    "x, y = prepare_data(train_data_path, features, target=target)\n",
    "x_test = prepare_data(test_data_path, features)\n",
    "\n",
    "x_train, x_val, y_train, y_val = train_test_split(x, y, test_size=0.5)\n",
    "y_train_trans = y_train[target[2]]\n",
    "y_val_trans = y_val[target[2]]\n",
    "\n",
    "x, y = shuffle(x, y)\n",
    "y_org = y[target[0]]\n",
    "y_trans = y[target[2]] # This is log10 transformed by Guang\n"
   ]
  },
  {
   "cell_type": "markdown",
   "metadata": {},
   "source": [
    "# Baseline models\n",
    "In this section I will cross validate several models on the whole dataset and observe their performance.\n",
    "I will use models:\n",
    "- linear regression (also with regularization)\n",
    "- random forest\n",
    "- support vector regressor\n",
    "- gradient boosting regressor\n",
    "\n",
    "I selected these models, because they represent a variety of approaches used to solve regression problems, and also they are the most popular ML models."
   ]
  },
  {
   "cell_type": "code",
   "execution_count": 4,
   "metadata": {},
   "outputs": [],
   "source": [
    "# Define the models\n",
    "lin_reg = LinearRegression()\n",
    "rf = RandomForestRegressor()\n",
    "svr = SVR()\n",
    "gbr = GradientBoostingRegressor()"
   ]
  },
  {
   "cell_type": "code",
   "execution_count": 5,
   "metadata": {},
   "outputs": [
    {
     "name": "stdout",
     "output_type": "stream",
     "text": [
      "0.0030023605170823035 0.5\n"
     ]
    }
   ],
   "source": [
    "# Use cross validation to find the best Lasso and Ridge regularization parameters \n",
    "elasticnetcv = ElasticNetCV(cv=10)\n",
    "elasticnetcv.fit(x.to_numpy(), y_trans.to_numpy())\n",
    "print(elasticnetcv.alpha_, elasticnetcv.l1_ratio_)"
   ]
  },
  {
   "cell_type": "code",
   "execution_count": 6,
   "metadata": {},
   "outputs": [],
   "source": [
    "# Define regularized linear regression model, with parameters influenced by the result of the previous cross validation\n",
    "# I decided to only use Lasso regression, because it produced better results in my own experiments and has the advantage of producing 0 valued coefficients\n",
    "elasticnet = ElasticNet(alpha=0.003, l1_ratio=1)"
   ]
  },
  {
   "cell_type": "code",
   "execution_count": 7,
   "metadata": {},
   "outputs": [],
   "source": [
    "models = {}\n",
    "models[\"lin_reg\"] = lin_reg\n",
    "models[\"rf\"] = rf\n",
    "models[\"svr\"] = svr\n",
    "models[\"gbr\"] = gbr\n",
    "models[\"elasticnet\"] = elasticnet"
   ]
  },
  {
   "cell_type": "code",
   "execution_count": 8,
   "metadata": {},
   "outputs": [
    {
     "name": "stdout",
     "output_type": "stream",
     "text": [
      "Validating model lin_reg\n"
     ]
    },
    {
     "name": "stdout",
     "output_type": "stream",
     "text": [
      "Validating model rf\n",
      "Validating model svr\n",
      "Validating model gbr\n",
      "Validating model elasticnet\n"
     ]
    },
    {
     "data": {
      "text/html": [
       "<div>\n",
       "<style scoped>\n",
       "    .dataframe tbody tr th:only-of-type {\n",
       "        vertical-align: middle;\n",
       "    }\n",
       "\n",
       "    .dataframe tbody tr th {\n",
       "        vertical-align: top;\n",
       "    }\n",
       "\n",
       "    .dataframe thead th {\n",
       "        text-align: right;\n",
       "    }\n",
       "</style>\n",
       "<table border=\"1\" class=\"dataframe\">\n",
       "  <thead>\n",
       "    <tr style=\"text-align: right;\">\n",
       "      <th></th>\n",
       "      <th>baseline</th>\n",
       "    </tr>\n",
       "  </thead>\n",
       "  <tbody>\n",
       "    <tr>\n",
       "      <th>lin_reg</th>\n",
       "      <td>0.709666</td>\n",
       "    </tr>\n",
       "    <tr>\n",
       "      <th>rf</th>\n",
       "      <td>0.714040</td>\n",
       "    </tr>\n",
       "    <tr>\n",
       "      <th>svr</th>\n",
       "      <td>0.747972</td>\n",
       "    </tr>\n",
       "    <tr>\n",
       "      <th>gbr</th>\n",
       "      <td>0.723740</td>\n",
       "    </tr>\n",
       "    <tr>\n",
       "      <th>elasticnet</th>\n",
       "      <td>0.707905</td>\n",
       "    </tr>\n",
       "  </tbody>\n",
       "</table>\n",
       "</div>"
      ],
      "text/plain": [
       "            baseline\n",
       "lin_reg     0.709666\n",
       "rf          0.714040\n",
       "svr         0.747972\n",
       "gbr         0.723740\n",
       "elasticnet  0.707905"
      ]
     },
     "execution_count": 8,
     "metadata": {},
     "output_type": "execute_result"
    }
   ],
   "source": [
    "baseline_scores = validate_models(models, x, y_trans)\n",
    "baseline_scores"
   ]
  },
  {
   "cell_type": "markdown",
   "metadata": {},
   "source": [
    "# Feature selection\n",
    "After calculating the baseline scores, I can start feature selection. I will use several techniques to find the best features. These techniques are:\n",
    "- Selecting features based on the coefficients of the regularized linear regression model.\n",
    "- Using feature selection based on F-scores\n",
    "- Using PCA to transform the feature space and based on that selecting the important principal components"
   ]
  },
  {
   "cell_type": "markdown",
   "metadata": {},
   "source": [
    "### 1. Feature selection based on the linear regression coefficients"
   ]
  },
  {
   "cell_type": "code",
   "execution_count": 9,
   "metadata": {},
   "outputs": [
    {
     "data": {
      "image/png": "[encoded data removed]",
      "text/plain": [
       "<Figure size 640x480 with 1 Axes>"
      ]
     },
     "metadata": {},
     "output_type": "display_data"
    }
   ],
   "source": [
    "# New target transformation\n",
    "elasticnet.fit(x, y_trans)\n",
    "plt.scatter(np.arange(elasticnet.coef_.size), elasticnet.coef_)\n",
    "plt.title(\"Coefficients of the regularized linear regression model\")\n",
    "plt.show()"
   ]
  },
  {
   "cell_type": "code",
   "execution_count": 10,
   "metadata": {},
   "outputs": [
    {
     "data": {
      "text/plain": [
       "Text(0, 0.5, 'Cross validation score')"
      ]
     },
     "execution_count": 10,
     "metadata": {},
     "output_type": "execute_result"
    },
    {
     "data": {
      "image/png": "[encoded data removed]",
      "text/plain": [
       "<Figure size 640x480 with 1 Axes>"
      ]
     },
     "metadata": {},
     "output_type": "display_data"
    }
   ],
   "source": [
    "best_feats, best_feats_score, feats, feats_scores = find_best_feature_subset(elasticnet.coef_, lin_reg, x, y_trans)\n",
    "\n",
    "plt.plot([len(f) for f in feats], feats_scores)\n",
    "plt.scatter([len(f) for f in feats], feats_scores)\n",
    "\n",
    "plt.xlabel(\"Number of features\")\n",
    "plt.ylabel(\"Cross validation score\")"
   ]
  },
  {
   "cell_type": "markdown",
   "metadata": {},
   "source": [
    "### 2. Feature selection based on F-scores"
   ]
  },
  {
   "cell_type": "code",
   "execution_count": 11,
   "metadata": {},
   "outputs": [
    {
     "data": {
      "text/plain": [
       "Text(0, 0.5, 'Cross validation score')"
      ]
     },
     "execution_count": 11,
     "metadata": {},
     "output_type": "execute_result"
    },
    {
     "data": {
      "image/png": "[encoded data removed]",
      "text/plain": [
       "<Figure size 640x480 with 1 Axes>"
      ]
     },
     "metadata": {},
     "output_type": "display_data"
    }
   ],
   "source": [
    "fs = SelectKBest(f_regression, k='all')\n",
    "fs.fit(x, y_trans)\n",
    "best_feats_sk, best_feats_score_sk, feats_sk, feats_scores_sk = find_best_feature_subset(fs.scores_, lin_reg, x, y_trans)\n",
    "\n",
    "plt.plot([len(f) for f in feats_sk], feats_scores_sk)\n",
    "plt.scatter([len(f) for f in feats_sk], feats_scores_sk)\n",
    "\n",
    "plt.xlabel(\"Number of features\")\n",
    "plt.ylabel(\"Cross validation score\")"
   ]
  },
  {
   "cell_type": "code",
   "execution_count": 12,
   "metadata": {},
   "outputs": [
    {
     "data": {
      "image/png": "[encoded data removed]",
      "text/plain": [
       "<Figure size 640x480 with 1 Axes>"
      ]
     },
     "metadata": {},
     "output_type": "display_data"
    }
   ],
   "source": [
    "plt.scatter(np.arange(fs.scores_.size), fs.scores_)\n",
    "plt.title(\"F scores calculated by f_regression function for each feature\")\n",
    "plt.ylabel(\"F score\")\n",
    "plt.show()"
   ]
  },
  {
   "cell_type": "markdown",
   "metadata": {},
   "source": [
    "### 3. PCA"
   ]
  },
  {
   "cell_type": "code",
   "execution_count": 13,
   "metadata": {},
   "outputs": [
    {
     "name": "stdout",
     "output_type": "stream",
     "text": [
      "The best number of principal components is: 28\n"
     ]
    }
   ],
   "source": [
    "pca = PCA(n_components='mle')\n",
    "pca.fit(x)\n",
    "print(f\"The best number of principal components is: {pca.components_.shape[0]}\")"
   ]
  },
  {
   "cell_type": "code",
   "execution_count": 14,
   "metadata": {},
   "outputs": [
    {
     "data": {
      "image/png": "[encoded data removed]",
      "text/plain": [
       "<Figure size 640x480 with 1 Axes>"
      ]
     },
     "metadata": {},
     "output_type": "display_data"
    }
   ],
   "source": [
    "pca = PCA(n_components=28)\n",
    "pca.fit(x)\n",
    "pca_ex_var = np.cumsum(pca.explained_variance_ratio_)\n",
    "plt.plot(np.arange(28), pca_ex_var)\n",
    "plt.scatter(np.arange(28), pca_ex_var)\n",
    "plt.title(\"Cumulative sum of explained variance\")\n",
    "plt.ylabel(\"Ratio of explained variance\")\n",
    "plt.xlabel(\"Number of prinicpal components\")\n",
    "plt.show()"
   ]
  },
  {
   "cell_type": "markdown",
   "metadata": {},
   "source": [
    "### 4. Model comparison based on the selected features"
   ]
  },
  {
   "cell_type": "code",
   "execution_count": 15,
   "metadata": {},
   "outputs": [
    {
     "name": "stdout",
     "output_type": "stream",
     "text": [
      "Validating model lin_reg\n",
      "Validating model rf\n",
      "Validating model svr\n",
      "Validating model gbr\n",
      "Validating model elasticnet\n",
      "Validating model lin_reg\n",
      "Validating model rf\n",
      "Validating model svr\n",
      "Validating model gbr\n",
      "Validating model elasticnet\n",
      "Validating model lin_reg\n",
      "Validating model rf\n",
      "Validating model svr\n",
      "Validating model gbr\n",
      "Validating model elasticnet\n"
     ]
    },
    {
     "data": {
      "text/html": [
       "<div>\n",
       "<style scoped>\n",
       "    .dataframe tbody tr th:only-of-type {\n",
       "        vertical-align: middle;\n",
       "    }\n",
       "\n",
       "    .dataframe tbody tr th {\n",
       "        vertical-align: top;\n",
       "    }\n",
       "\n",
       "    .dataframe thead th {\n",
       "        text-align: right;\n",
       "    }\n",
       "</style>\n",
       "<table border=\"1\" class=\"dataframe\">\n",
       "  <thead>\n",
       "    <tr style=\"text-align: right;\">\n",
       "      <th></th>\n",
       "      <th>baseline</th>\n",
       "      <th>lin reg features</th>\n",
       "      <th>skb features</th>\n",
       "      <th>pca</th>\n",
       "    </tr>\n",
       "  </thead>\n",
       "  <tbody>\n",
       "    <tr>\n",
       "      <th>lin_reg</th>\n",
       "      <td>0.709666</td>\n",
       "      <td>NaN</td>\n",
       "      <td>NaN</td>\n",
       "      <td>NaN</td>\n",
       "    </tr>\n",
       "    <tr>\n",
       "      <th>rf</th>\n",
       "      <td>0.714040</td>\n",
       "      <td>NaN</td>\n",
       "      <td>NaN</td>\n",
       "      <td>NaN</td>\n",
       "    </tr>\n",
       "    <tr>\n",
       "      <th>svr</th>\n",
       "      <td>0.747972</td>\n",
       "      <td>NaN</td>\n",
       "      <td>NaN</td>\n",
       "      <td>NaN</td>\n",
       "    </tr>\n",
       "    <tr>\n",
       "      <th>gbr</th>\n",
       "      <td>0.723740</td>\n",
       "      <td>NaN</td>\n",
       "      <td>NaN</td>\n",
       "      <td>NaN</td>\n",
       "    </tr>\n",
       "    <tr>\n",
       "      <th>elasticnet</th>\n",
       "      <td>0.707905</td>\n",
       "      <td>NaN</td>\n",
       "      <td>NaN</td>\n",
       "      <td>NaN</td>\n",
       "    </tr>\n",
       "    <tr>\n",
       "      <th>lin_reg</th>\n",
       "      <td>NaN</td>\n",
       "      <td>0.708340</td>\n",
       "      <td>NaN</td>\n",
       "      <td>NaN</td>\n",
       "    </tr>\n",
       "    <tr>\n",
       "      <th>rf</th>\n",
       "      <td>NaN</td>\n",
       "      <td>0.704838</td>\n",
       "      <td>NaN</td>\n",
       "      <td>NaN</td>\n",
       "    </tr>\n",
       "    <tr>\n",
       "      <th>svr</th>\n",
       "      <td>NaN</td>\n",
       "      <td>0.741367</td>\n",
       "      <td>NaN</td>\n",
       "      <td>NaN</td>\n",
       "    </tr>\n",
       "    <tr>\n",
       "      <th>gbr</th>\n",
       "      <td>NaN</td>\n",
       "      <td>0.718606</td>\n",
       "      <td>NaN</td>\n",
       "      <td>NaN</td>\n",
       "    </tr>\n",
       "    <tr>\n",
       "      <th>elasticnet</th>\n",
       "      <td>NaN</td>\n",
       "      <td>0.708032</td>\n",
       "      <td>NaN</td>\n",
       "      <td>NaN</td>\n",
       "    </tr>\n",
       "    <tr>\n",
       "      <th>lin_reg</th>\n",
       "      <td>NaN</td>\n",
       "      <td>NaN</td>\n",
       "      <td>0.709697</td>\n",
       "      <td>NaN</td>\n",
       "    </tr>\n",
       "    <tr>\n",
       "      <th>rf</th>\n",
       "      <td>NaN</td>\n",
       "      <td>NaN</td>\n",
       "      <td>0.713530</td>\n",
       "      <td>NaN</td>\n",
       "    </tr>\n",
       "    <tr>\n",
       "      <th>svr</th>\n",
       "      <td>NaN</td>\n",
       "      <td>NaN</td>\n",
       "      <td>0.748168</td>\n",
       "      <td>NaN</td>\n",
       "    </tr>\n",
       "    <tr>\n",
       "      <th>gbr</th>\n",
       "      <td>NaN</td>\n",
       "      <td>NaN</td>\n",
       "      <td>0.723827</td>\n",
       "      <td>NaN</td>\n",
       "    </tr>\n",
       "    <tr>\n",
       "      <th>elasticnet</th>\n",
       "      <td>NaN</td>\n",
       "      <td>NaN</td>\n",
       "      <td>0.707976</td>\n",
       "      <td>NaN</td>\n",
       "    </tr>\n",
       "    <tr>\n",
       "      <th>lin_reg</th>\n",
       "      <td>NaN</td>\n",
       "      <td>NaN</td>\n",
       "      <td>NaN</td>\n",
       "      <td>0.709684</td>\n",
       "    </tr>\n",
       "    <tr>\n",
       "      <th>rf</th>\n",
       "      <td>NaN</td>\n",
       "      <td>NaN</td>\n",
       "      <td>NaN</td>\n",
       "      <td>0.710483</td>\n",
       "    </tr>\n",
       "    <tr>\n",
       "      <th>svr</th>\n",
       "      <td>NaN</td>\n",
       "      <td>NaN</td>\n",
       "      <td>NaN</td>\n",
       "      <td>0.747972</td>\n",
       "    </tr>\n",
       "    <tr>\n",
       "      <th>gbr</th>\n",
       "      <td>NaN</td>\n",
       "      <td>NaN</td>\n",
       "      <td>NaN</td>\n",
       "      <td>0.704239</td>\n",
       "    </tr>\n",
       "    <tr>\n",
       "      <th>elasticnet</th>\n",
       "      <td>NaN</td>\n",
       "      <td>NaN</td>\n",
       "      <td>NaN</td>\n",
       "      <td>0.707652</td>\n",
       "    </tr>\n",
       "  </tbody>\n",
       "</table>\n",
       "</div>"
      ],
      "text/plain": [
       "            baseline  lin reg features  skb features       pca\n",
       "lin_reg     0.709666               NaN           NaN       NaN\n",
       "rf          0.714040               NaN           NaN       NaN\n",
       "svr         0.747972               NaN           NaN       NaN\n",
       "gbr         0.723740               NaN           NaN       NaN\n",
       "elasticnet  0.707905               NaN           NaN       NaN\n",
       "lin_reg          NaN          0.708340           NaN       NaN\n",
       "rf               NaN          0.704838           NaN       NaN\n",
       "svr              NaN          0.741367           NaN       NaN\n",
       "gbr              NaN          0.718606           NaN       NaN\n",
       "elasticnet       NaN          0.708032           NaN       NaN\n",
       "lin_reg          NaN               NaN      0.709697       NaN\n",
       "rf               NaN               NaN      0.713530       NaN\n",
       "svr              NaN               NaN      0.748168       NaN\n",
       "gbr              NaN               NaN      0.723827       NaN\n",
       "elasticnet       NaN               NaN      0.707976       NaN\n",
       "lin_reg          NaN               NaN           NaN  0.709684\n",
       "rf               NaN               NaN           NaN  0.710483\n",
       "svr              NaN               NaN           NaN  0.747972\n",
       "gbr              NaN               NaN           NaN  0.704239\n",
       "elasticnet       NaN               NaN           NaN  0.707652"
      ]
     },
     "execution_count": 15,
     "metadata": {},
     "output_type": "execute_result"
    }
   ],
   "source": [
    "\n",
    "lin_feats_scores = validate_models(models, x[best_feats], y_trans, \"lin reg features\")\n",
    "skb_feats_scores = validate_models(models, x[best_feats_sk], y_trans, \"skb features\")\n",
    "pca_scores = validate_models(models, PCA(n_components=28).fit_transform(x), y_trans, \"pca\")\n",
    "scores_combined = pd.concat([baseline_scores, lin_feats_scores, skb_feats_scores, pca_scores])\n",
    "scores_combined"
   ]
  },
  {
   "cell_type": "code",
   "execution_count": 20,
   "metadata": {},
   "outputs": [
    {
     "data": {
      "text/html": [
       "<div>\n",
       "<style scoped>\n",
       "    .dataframe tbody tr th:only-of-type {\n",
       "        vertical-align: middle;\n",
       "    }\n",
       "\n",
       "    .dataframe tbody tr th {\n",
       "        vertical-align: top;\n",
       "    }\n",
       "\n",
       "    .dataframe thead th {\n",
       "        text-align: right;\n",
       "    }\n",
       "</style>\n",
       "<table border=\"1\" class=\"dataframe\">\n",
       "  <thead>\n",
       "    <tr style=\"text-align: right;\">\n",
       "      <th></th>\n",
       "      <th>baseline</th>\n",
       "      <th>lin reg features</th>\n",
       "      <th>skb features</th>\n",
       "      <th>pca</th>\n",
       "    </tr>\n",
       "  </thead>\n",
       "  <tbody>\n",
       "    <tr>\n",
       "      <th>lin_reg</th>\n",
       "      <td>0.709666</td>\n",
       "      <td>0.708340</td>\n",
       "      <td>0.709697</td>\n",
       "      <td>0.709684</td>\n",
       "    </tr>\n",
       "    <tr>\n",
       "      <th>rf</th>\n",
       "      <td>0.714040</td>\n",
       "      <td>0.704838</td>\n",
       "      <td>0.713530</td>\n",
       "      <td>0.710483</td>\n",
       "    </tr>\n",
       "    <tr>\n",
       "      <th>svr</th>\n",
       "      <td>0.747972</td>\n",
       "      <td>0.741367</td>\n",
       "      <td>0.748168</td>\n",
       "      <td>0.747972</td>\n",
       "    </tr>\n",
       "    <tr>\n",
       "      <th>gbr</th>\n",
       "      <td>0.723740</td>\n",
       "      <td>0.718606</td>\n",
       "      <td>0.723827</td>\n",
       "      <td>0.704239</td>\n",
       "    </tr>\n",
       "    <tr>\n",
       "      <th>elasticnet</th>\n",
       "      <td>0.707905</td>\n",
       "      <td>0.708032</td>\n",
       "      <td>0.707976</td>\n",
       "      <td>0.707652</td>\n",
       "    </tr>\n",
       "  </tbody>\n",
       "</table>\n",
       "</div>"
      ],
      "text/plain": [
       "            baseline  lin reg features  skb features       pca\n",
       "lin_reg     0.709666          0.708340      0.709697  0.709684\n",
       "rf          0.714040          0.704838      0.713530  0.710483\n",
       "svr         0.747972          0.741367      0.748168  0.747972\n",
       "gbr         0.723740          0.718606      0.723827  0.704239\n",
       "elasticnet  0.707905          0.708032      0.707976  0.707652"
      ]
     },
     "execution_count": 20,
     "metadata": {},
     "output_type": "execute_result"
    }
   ],
   "source": [
    "scores_combined = pd.concat([baseline_scores, lin_feats_scores, skb_feats_scores, pca_scores], axis=1)\n",
    "scores_combined"
   ]
  },
  {
   "cell_type": "code",
   "execution_count": 21,
   "metadata": {},
   "outputs": [],
   "source": [
    "# Save features\n",
    "save_feats(best_feats, \"best_linear_feats.csv\")\n",
    "save_feats(best_feats_sk, \"best_fscore_feats.csv\")\n"
   ]
  },
  {
   "cell_type": "markdown",
   "metadata": {},
   "source": [
    "### 5. Additional features\n",
    "\n",
    "Based on the results from above, it is clear that all of the features contribute to the result. Next step is to try creating new features in order to improve the score."
   ]
  },
  {
   "cell_type": "code",
   "execution_count": 16,
   "metadata": {},
   "outputs": [
    {
     "name": "stdout",
     "output_type": "stream",
     "text": [
      "Validating model lin_reg\n",
      "Validating model rf\n",
      "Validating model svr\n",
      "Validating model gbr\n",
      "Validating model elasticnet\n"
     ]
    },
    {
     "name": "stderr",
     "output_type": "stream",
     "text": [
      "/home/dominik/helsinki/IMLProject/venv/lib/python3.11/site-packages/sklearn/linear_model/_coordinate_descent.py:628: ConvergenceWarning: Objective did not converge. You might want to increase the number of iterations, check the scale of the features or consider increasing regularisation. Duality gap: 1.640e+01, tolerance: 1.155e+01\n",
      "  model = cd_fast.enet_coordinate_descent(\n",
      "/home/dominik/helsinki/IMLProject/venv/lib/python3.11/site-packages/sklearn/linear_model/_coordinate_descent.py:628: ConvergenceWarning: Objective did not converge. You might want to increase the number of iterations, check the scale of the features or consider increasing regularisation. Duality gap: 1.619e+01, tolerance: 1.161e+01\n",
      "  model = cd_fast.enet_coordinate_descent(\n",
      "/home/dominik/helsinki/IMLProject/venv/lib/python3.11/site-packages/sklearn/linear_model/_coordinate_descent.py:628: ConvergenceWarning: Objective did not converge. You might want to increase the number of iterations, check the scale of the features or consider increasing regularisation. Duality gap: 1.615e+01, tolerance: 1.161e+01\n",
      "  model = cd_fast.enet_coordinate_descent(\n",
      "/home/dominik/helsinki/IMLProject/venv/lib/python3.11/site-packages/sklearn/linear_model/_coordinate_descent.py:628: ConvergenceWarning: Objective did not converge. You might want to increase the number of iterations, check the scale of the features or consider increasing regularisation. Duality gap: 1.628e+01, tolerance: 1.165e+01\n",
      "  model = cd_fast.enet_coordinate_descent(\n",
      "/home/dominik/helsinki/IMLProject/venv/lib/python3.11/site-packages/sklearn/linear_model/_coordinate_descent.py:628: ConvergenceWarning: Objective did not converge. You might want to increase the number of iterations, check the scale of the features or consider increasing regularisation. Duality gap: 1.630e+01, tolerance: 1.157e+01\n",
      "  model = cd_fast.enet_coordinate_descent(\n",
      "/home/dominik/helsinki/IMLProject/venv/lib/python3.11/site-packages/sklearn/linear_model/_coordinate_descent.py:628: ConvergenceWarning: Objective did not converge. You might want to increase the number of iterations, check the scale of the features or consider increasing regularisation. Duality gap: 1.620e+01, tolerance: 1.157e+01\n",
      "  model = cd_fast.enet_coordinate_descent(\n",
      "/home/dominik/helsinki/IMLProject/venv/lib/python3.11/site-packages/sklearn/linear_model/_coordinate_descent.py:628: ConvergenceWarning: Objective did not converge. You might want to increase the number of iterations, check the scale of the features or consider increasing regularisation. Duality gap: 1.625e+01, tolerance: 1.161e+01\n",
      "  model = cd_fast.enet_coordinate_descent(\n",
      "/home/dominik/helsinki/IMLProject/venv/lib/python3.11/site-packages/sklearn/linear_model/_coordinate_descent.py:628: ConvergenceWarning: Objective did not converge. You might want to increase the number of iterations, check the scale of the features or consider increasing regularisation. Duality gap: 1.648e+01, tolerance: 1.162e+01\n",
      "  model = cd_fast.enet_coordinate_descent(\n",
      "/home/dominik/helsinki/IMLProject/venv/lib/python3.11/site-packages/sklearn/linear_model/_coordinate_descent.py:628: ConvergenceWarning: Objective did not converge. You might want to increase the number of iterations, check the scale of the features or consider increasing regularisation. Duality gap: 1.637e+01, tolerance: 1.153e+01\n",
      "  model = cd_fast.enet_coordinate_descent(\n",
      "/home/dominik/helsinki/IMLProject/venv/lib/python3.11/site-packages/sklearn/linear_model/_coordinate_descent.py:628: ConvergenceWarning: Objective did not converge. You might want to increase the number of iterations, check the scale of the features or consider increasing regularisation. Duality gap: 1.633e+01, tolerance: 1.163e+01\n",
      "  model = cd_fast.enet_coordinate_descent(\n"
     ]
    },
    {
     "data": {
      "text/html": [
       "<div>\n",
       "<style scoped>\n",
       "    .dataframe tbody tr th:only-of-type {\n",
       "        vertical-align: middle;\n",
       "    }\n",
       "\n",
       "    .dataframe tbody tr th {\n",
       "        vertical-align: top;\n",
       "    }\n",
       "\n",
       "    .dataframe thead th {\n",
       "        text-align: right;\n",
       "    }\n",
       "</style>\n",
       "<table border=\"1\" class=\"dataframe\">\n",
       "  <thead>\n",
       "    <tr style=\"text-align: right;\">\n",
       "      <th></th>\n",
       "      <th>poly features</th>\n",
       "    </tr>\n",
       "  </thead>\n",
       "  <tbody>\n",
       "    <tr>\n",
       "      <th>lin_reg</th>\n",
       "      <td>-3830.940824</td>\n",
       "    </tr>\n",
       "    <tr>\n",
       "      <th>rf</th>\n",
       "      <td>0.715941</td>\n",
       "    </tr>\n",
       "    <tr>\n",
       "      <th>svr</th>\n",
       "      <td>0.737504</td>\n",
       "    </tr>\n",
       "    <tr>\n",
       "      <th>gbr</th>\n",
       "      <td>0.728260</td>\n",
       "    </tr>\n",
       "    <tr>\n",
       "      <th>elasticnet</th>\n",
       "      <td>0.742700</td>\n",
       "    </tr>\n",
       "  </tbody>\n",
       "</table>\n",
       "</div>"
      ],
      "text/plain": [
       "            poly features\n",
       "lin_reg      -3830.940824\n",
       "rf               0.715941\n",
       "svr              0.737504\n",
       "gbr              0.728260\n",
       "elasticnet       0.742700"
      ]
     },
     "execution_count": 16,
     "metadata": {},
     "output_type": "execute_result"
    }
   ],
   "source": [
    "from sklearn.preprocessing import PolynomialFeatures\n",
    "\n",
    "poly = PolynomialFeatures(2, include_bias=False)\n",
    "poly_x = poly.fit_transform(x)\n",
    "poly_feats_scores = validate_models(models, *shuffle(poly_x, y_trans), \"poly features\")\n",
    "poly_feats_scores"
   ]
  },
  {
   "cell_type": "markdown",
   "metadata": {},
   "source": [
    "### 6. Best parameter selection"
   ]
  },
  {
   "cell_type": "code",
   "execution_count": 19,
   "metadata": {},
   "outputs": [
    {
     "name": "stdout",
     "output_type": "stream",
     "text": [
      "Achieved score: 0.7417831096820852 for C: 0.5\n",
      "Achieved score: 0.7461920149207237 for C: 1.0\n",
      "Achieved score: 0.7478729484334259 for C: 1.5\n",
      "Achieved score: 0.7487771746403811 for C: 2.0\n",
      "Achieved score: 0.7485055900129048 for C: 5.0\n"
     ]
    }
   ],
   "source": [
    "c_vals = [0.5, 1.0, 1.5, 2.0, 5.0]\n",
    "scores = []\n",
    "shuffled_data = shuffle(x, y_trans)\n",
    "for c in c_vals:\n",
    "    svr_reg = SVR(C=c)\n",
    "    scores.append(cross_validate_model(svr_reg, *shuffled_data, cv=5).mean())\n",
    "for c, score in zip(c_vals, scores):\n",
    "    print(f\"Achieved score: {score} for C: {c}\")"
   ]
  },
  {
   "cell_type": "markdown",
   "metadata": {},
   "source": [
    "### 7. Final model "
   ]
  },
  {
   "cell_type": "code",
   "execution_count": 23,
   "metadata": {},
   "outputs": [],
   "source": [
    "model = SVR(C=5)\n",
    "model.fit(x, y_trans)\n",
    "preds = model.predict(x_test)\n",
    "save_test_predictions(preds, \"predictions/svr_c5.csv\", test_data_path)"
   ]
  },
  {
   "cell_type": "code",
   "execution_count": 67,
   "metadata": {},
   "outputs": [
    {
     "name": "stdout",
     "output_type": "stream",
     "text": [
      "[0.86412509 0.79983101 0.86129369 0.81667929 0.86537022 1.\n",
      " 0.63156137 0.22103743 0.87076068 0.96148103 0.83970603 0.95630573\n",
      " 0.66838661 0.87415554 0.96160687 0.77199402 0.05354449 0.88452995\n",
      " 0.97392572 0.89800222 0.91292894 0.22974696 0.88956354 0.86901086\n",
      " 0.25764138 0.01045923 0.00895875 0.00992965 0.0962073  0.00864983]\n"
     ]
    },
    {
     "data": {
      "text/plain": [
       "Index(['NumOfAtoms', 'NumOfC', 'NumOfO', 'NumOfN', 'NumHBondDonors',\n",
       "       'NumOfConfUsed', 'cc', 'ccco', 'hydroxyl_alkl', 'aldehyde', 'ketone',\n",
       "       'carboxylic_acid', 'ester', 'ether_alicyclic', 'nitrate', 'nitro',\n",
       "       'aromatic_hydroxyl', 'carbonylperoxynitrate', 'peroxide',\n",
       "       'hydroperoxide', 'carbonylperoxyacid', 'nitroester', 'trans_NumOfConf',\n",
       "       'trans_MW', 'ohe_parentspecies_apin', 'ohe_parentspecies_apin_decane',\n",
       "       'ohe_parentspecies_apin_decane_toluene',\n",
       "       'ohe_parentspecies_apin_toluene', 'ohe_parentspecies_decane',\n",
       "       'ohe_parentspecies_decane_toluene'],\n",
       "      dtype='object')"
      ]
     },
     "execution_count": 67,
     "metadata": {},
     "output_type": "execute_result"
    }
   ],
   "source": [
    "sv = model.support_vectors_\n",
    "svsum = np.sum(np.abs(sv), axis=0)\n",
    "print(svsum / np.max(svsum))\n",
    "x.columns"
   ]
  },
  {
   "cell_type": "code",
   "execution_count": 24,
   "metadata": {},
   "outputs": [],
   "source": [
    "model2 = SVR()\n",
    "model2.fit(x[best_feats], y_trans)\n",
    "preds2 = model2.predict(x_test[best_feats])\n",
    "save_test_predictions(preds2, \"predictions/svr_best_linear_feats.csv\", test_data_path)"
   ]
  },
  {
   "cell_type": "code",
   "execution_count": 25,
   "metadata": {},
   "outputs": [],
   "source": [
    "model3 = SVR()\n",
    "model3.fit(x[best_feats_sk], y_trans)\n",
    "preds3 = model3.predict(x_test[best_feats_sk])\n",
    "save_test_predictions(preds3, \"predictions/svr_best_fscore_feats.csv\", test_data_path)"
   ]
  },
  {
   "cell_type": "code",
   "execution_count": 66,
   "metadata": {},
   "outputs": [
    {
     "name": "stdout",
     "output_type": "stream",
     "text": [
      "[0.86493874 0.80035363 0.86239338 0.81578184 0.86563487 1.\n",
      " 0.63344312 0.87104428 0.96039085 0.83817778 0.9562313  0.67050244\n",
      " 0.87464119 0.96209238 0.77317146 0.88436084 0.97339093 0.89896254\n",
      " 0.91309524 0.23277439 0.89108003 0.87084347 0.25716673 0.00866311\n",
      " 0.09525019 0.00831131]\n"
     ]
    },
    {
     "data": {
      "text/plain": [
       "Index(['NumOfAtoms', 'NumOfC', 'NumOfO', 'NumOfN', 'NumHBondDonors',\n",
       "       'NumOfConfUsed', 'cc', 'ccco', 'hydroxyl_alkl', 'aldehyde', 'ketone',\n",
       "       'carboxylic_acid', 'ester', 'ether_alicyclic', 'nitrate', 'nitro',\n",
       "       'aromatic_hydroxyl', 'carbonylperoxynitrate', 'peroxide',\n",
       "       'hydroperoxide', 'carbonylperoxyacid', 'nitroester', 'trans_NumOfConf',\n",
       "       'trans_MW', 'ohe_parentspecies_apin', 'ohe_parentspecies_apin_decane',\n",
       "       'ohe_parentspecies_apin_decane_toluene',\n",
       "       'ohe_parentspecies_apin_toluene', 'ohe_parentspecies_decane',\n",
       "       'ohe_parentspecies_decane_toluene'],\n",
       "      dtype='object')"
      ]
     },
     "execution_count": 66,
     "metadata": {},
     "output_type": "execute_result"
    }
   ],
   "source": [
    "sv = model3.support_vectors_\n",
    "svsum = np.sum(np.abs(sv), axis=0)\n",
    "print(svsum / np.max(svsum))\n",
    "x.columns\n"
   ]
  },
  {
   "cell_type": "code",
   "execution_count": 26,
   "metadata": {},
   "outputs": [],
   "source": [
    "model4 = SVR()\n",
    "model4.fit(pca.transform(x), y_trans)\n",
    "preds4 = model4.predict(pca.transform(x_test))\n",
    "save_test_predictions(preds4, \"predictions/svr_best_pca.csv\", test_data_path)"
   ]
  },
  {
   "cell_type": "code",
   "execution_count": 27,
   "metadata": {},
   "outputs": [],
   "source": [
    "model5 = ElasticNet(alpha=0.003, l1_ratio=0.9)\n",
    "model5.fit(poly_x, y_trans)\n",
    "preds5 = model5.predict(poly.transform(x_test))\n",
    "save_test_predictions(preds5, \"predictions/svr_best_poly_feats.csv\", test_data_path)"
   ]
  },
  {
   "cell_type": "code",
   "execution_count": 49,
   "metadata": {},
   "outputs": [
    {
     "name": "stderr",
     "output_type": "stream",
     "text": [
      "/tmp/ipykernel_11534/3333721820.py:14: SettingWithCopyWarning: \n",
      "A value is trying to be set on a copy of a slice from a DataFrame.\n",
      "Try using .loc[row_indexer,col_indexer] = value instead\n",
      "\n",
      "See the caveats in the documentation: https://pandas.pydata.org/pandas-docs/stable/user_guide/indexing.html#returning-a-view-versus-a-copy\n",
      "  x[x[[\"ohe_parentspecies_apin\",\n",
      "/tmp/ipykernel_11534/3333721820.py:14: SettingWithCopyWarning: \n",
      "A value is trying to be set on a copy of a slice from a DataFrame\n",
      "\n",
      "See the caveats in the documentation: https://pandas.pydata.org/pandas-docs/stable/user_guide/indexing.html#returning-a-view-versus-a-copy\n",
      "  x[x[[\"ohe_parentspecies_apin\",\n"
     ]
    }
   ],
   "source": [
    "# Test the last model on previous scaling\n",
    "old_test = prepare_data(data_dir / \"old/gecko_ml_test.csv\", features)\n",
    "preds6 = model5.predict(poly.transform(old_test))\n",
    "save_test_predictions(preds6, \"predictions/en_best_poly_feats_old_test.csv\", data_dir / \"old/gecko_ml_test.csv\")"
   ]
  },
  {
   "cell_type": "code",
   "execution_count": 54,
   "metadata": {},
   "outputs": [],
   "source": [
    "model7 = GradientBoostingRegressor()\n",
    "model7.fit(poly_x, y_trans)\n",
    "preds7 = model7.predict(poly.transform(x_test))\n",
    "save_test_predictions(preds7, \"predictions/gbr_poly_feats.csv\", test_data_path)"
   ]
  },
  {
   "cell_type": "code",
   "execution_count": 59,
   "metadata": {},
   "outputs": [
    {
     "name": "stderr",
     "output_type": "stream",
     "text": [
      "/tmp/ipykernel_11534/3333721820.py:14: SettingWithCopyWarning: \n",
      "A value is trying to be set on a copy of a slice from a DataFrame.\n",
      "Try using .loc[row_indexer,col_indexer] = value instead\n",
      "\n",
      "See the caveats in the documentation: https://pandas.pydata.org/pandas-docs/stable/user_guide/indexing.html#returning-a-view-versus-a-copy\n",
      "  x[x[[\"ohe_parentspecies_apin\",\n",
      "/tmp/ipykernel_11534/3333721820.py:14: SettingWithCopyWarning: \n",
      "A value is trying to be set on a copy of a slice from a DataFrame\n",
      "\n",
      "See the caveats in the documentation: https://pandas.pydata.org/pandas-docs/stable/user_guide/indexing.html#returning-a-view-versus-a-copy\n",
      "  x[x[[\"ohe_parentspecies_apin\",\n"
     ]
    }
   ],
   "source": [
    "# Test the last model on previous scaling\n",
    "old_test = prepare_data(data_dir / \"old/gecko_ml_test.csv\", features)\n",
    "preds8 = model7.predict(poly.transform(old_test))\n",
    "save_test_predictions(preds8, \"predictions/gbr_poly_feats_old_test.csv\", data_dir / \"old/gecko_ml_test.csv\")"
   ]
  },
  {
   "cell_type": "code",
   "execution_count": 56,
   "metadata": {},
   "outputs": [
    {
     "data": {
      "text/plain": [
       "<Axes: ylabel='Count'>"
      ]
     },
     "execution_count": 56,
     "metadata": {},
     "output_type": "execute_result"
    },
    {
     "data": {
      "image/png": "[encoded data removed]",
      "text/plain": [
       "<Figure size 640x480 with 1 Axes>"
      ]
     },
     "metadata": {},
     "output_type": "display_data"
    }
   ],
   "source": [
    "import seaborn as sns\n",
    "predictions = pd.DataFrame({\n",
    "    \"SVR regularized\": preds,\n",
    "    \"Best linear feats\": preds2,\n",
    "    \"Best fscore feats\": preds3,\n",
    "    \"PCA transformed feats\": preds4,\n",
    "    \"ElasticNet with polynomial feats\": preds5\n",
    "})\n",
    "sns.histplot(data=preds, multiple=\"stack\")\n",
    "sns.histplot(data=preds2, multiple=\"stack\")\n",
    "sns.histplot(data=preds3, multiple=\"stack\")\n",
    "sns.histplot(data=preds4, multiple=\"stack\")\n",
    "sns.histplot(data=preds5, multiple=\"stack\")\n",
    "sns.histplot(data=preds6, multiple=\"stack\")\n",
    "sns.histplot(data=preds7, multiple=\"stack\")\n",
    "\n"
   ]
  },
  {
   "cell_type": "code",
   "execution_count": 62,
   "metadata": {},
   "outputs": [
    {
     "data": {
      "image/png": "[encoded data removed]",
      "text/plain": [
       "<Figure size 640x480 with 1 Axes>"
      ]
     },
     "metadata": {},
     "output_type": "display_data"
    }
   ],
   "source": [
    "best_predictions = pd.read_csv(\"predictions/svr_selected_feats2_log10.csv\")\n",
    "sns.histplot(data=best_predictions, x='target')\n",
    "sns.histplot(data=preds6)\n",
    "sns.histplot(data=preds8)\n",
    "\n",
    "# Combination of the best models gives the best result\n",
    "comb = (best_predictions[\"target\"] + preds6 + preds8) / 3\n",
    "sns.histplot(data=comb)\n",
    "\n",
    "save_test_predictions(comb, \"predictions/comb1.csv\", test_data_path)"
   ]
  },
  {
   "cell_type": "code",
   "execution_count": 57,
   "metadata": {},
   "outputs": [
    {
     "name": "stdout",
     "output_type": "stream",
     "text": [
      "-0.36508321012608036\n"
     ]
    },
    {
     "data": {
      "image/png": "[encoded data removed]",
      "text/plain": [
       "<Figure size 640x480 with 1 Axes>"
      ]
     },
     "metadata": {},
     "output_type": "display_data"
    }
   ],
   "source": [
    "diff = preds7 - best_predictions[\"target\"].to_numpy()\n",
    "np.mean(diff)\n",
    "sns.histplot(data=diff)\n",
    "print(np.mean(preds7) - np.mean(best_predictions[\"target\"]))"
   ]
  },
  {
   "cell_type": "code",
   "execution_count": 58,
   "metadata": {},
   "outputs": [],
   "source": [
    "save_test_predictions(preds7 + 0.35*np.ones_like(preds), \"predictions/gbr_poly_feats_moved.csv\", test_data_path)"
   ]
  },
  {
   "cell_type": "code",
   "execution_count": 53,
   "metadata": {},
   "outputs": [
    {
     "data": {
      "text/plain": [
       "<Axes: xlabel='trans_log10_noscale_pSat_Pa', ylabel='Count'>"
      ]
     },
     "execution_count": 53,
     "metadata": {},
     "output_type": "execute_result"
    },
    {
     "data": {
      "image/png": "[encoded data removed]",
      "text/plain": [
       "<Figure size 640x480 with 1 Axes>"
      ]
     },
     "metadata": {},
     "output_type": "display_data"
    }
   ],
   "source": [
    "sns.histplot(data=y_trans)\n",
    "sns.histplot(data=y_trans[:10000])\n"
   ]
  },
  {
   "cell_type": "markdown",
   "metadata": {},
   "source": [
    "# Advanced competition"
   ]
  },
  {
   "cell_type": "code",
   "execution_count": null,
   "metadata": {},
   "outputs": [],
   "source": [
    "# from sklearn.preprocessing import StandardScaler\n",
    "\n",
    "# def mode_center(df, mode):\n",
    "#     mode_matrix = np.ones_like(df.to_numpy()) * mode\n",
    "#     mode_centered_ordinal = df.to_numpy() - mode_matrix\n",
    "#     mode_centered_ordinal = pd.DataFrame(mode_centered_ordinal, columns=df.columns)\n",
    "#     return mode_centered_ordinal"
   ]
  },
  {
   "cell_type": "code",
   "execution_count": null,
   "metadata": {},
   "outputs": [],
   "source": [
    "# adv_data_dir = data_dir / \"advanced\"\n",
    "\n",
    "# # Load advanced competition data\n",
    "# adv_train = pd.read_csv(adv_data_dir / \"train.csv\")\n",
    "# adv_test = pd.read_csv(adv_data_dir / \"test.csv\")\n",
    "# adv_train_y = np.log10(adv_train[\"pSat_Pa\"])\n",
    "# adv_train_x = adv_train.drop([\"pSat_Pa\", \"Id\", \"parentspecies\"], axis=1)\n",
    "# adv_test = adv_test.drop([\"Id\", \"parentspecies\"], axis=1)\n",
    "\n",
    "# # Transform features MW and NumOfConf\n",
    "# adv_train_x[\"MW\"] = np.log(adv_train_x[\"MW\"])\n",
    "# adv_test[\"MW\"] = np.log(adv_test[\"MW\"])\n",
    "# adv_train_x[\"NumOfConf\"] = adv_train_x[\"NumOfConf\"] ** 0.3\n",
    "# adv_test[\"NumOfConf\"] = adv_test[\"NumOfConf\"] ** 0.3\n"
   ]
  },
  {
   "cell_type": "code",
   "execution_count": null,
   "metadata": {},
   "outputs": [],
   "source": [
    "\n",
    "ordinal_cols = ['NumOfAtoms', 'NumOfC', 'NumOfO', 'NumOfN', 'NumHBondDonors',\n",
    "       'NumOfConfUsed', 'C.C..non.aromatic.', 'C.C.C.O.in.non.aromatic.ring',\n",
    "       'hydroxyl..alkyl.', 'aldehyde', 'ketone', 'carboxylic.acid', 'ester',\n",
    "       'ether..alicyclic.', 'nitrate', 'nitro', 'aromatic.hydroxyl',\n",
    "       'carbonylperoxynitrate', 'peroxide', 'hydroperoxide',\n",
    "       'carbonylperoxyacid', 'nitroester']\n",
    "mode = train_x[ordinal_cols].mode().to_numpy()\n",
    "train_x[ordinal_cols] = mode_center(train_x[ordinal_cols], mode)\n",
    "test[ordinal_cols] = mode_center(test[ordinal_cols], mode)\n",
    "\n",
    "scaler = StandardScaler(with_std=False)\n",
    "scaler.fit(train_x[[\"MW\", \"NumOfConf\"]])\n",
    "train_x[[\"MW\", \"NumOfConf\"]] = scaler.transform(train_x[[\"MW\", \"NumOfConf\"]])\n",
    "test[[\"MW\", \"NumOfConf\"]] = scaler.transform(test[[\"MW\", \"NumOfConf\"]])\n",
    "\n",
    "\n",
    "#%%\n",
    "adv = data_dir / \"advanced\"\n",
    "embed = np.load(adv / \"topFP_train.npy\")\n",
    "embeddf = pd.DataFrame(embed)\n",
    "\n",
    "pca = PCA(n_components=10)\n",
    "pca.fit(embeddf)\n",
    "\n",
    "reduced_embed = pca.transform(embeddf)\n",
    "reduced_embed = pd.DataFrame(reduced_embed, columns=[f\"pca{i}\" for i in range(1, 11)])\n",
    "\n",
    "train_x_embed = pd.concat([train_x, reduced_embed], axis=1)\n",
    "#%%\n",
    "svr = SVR()\n",
    "\n",
    "sh_x, sh_y = shuffle(train_x_embed, train_y.to_numpy().reshape((-1, 1)), random_state=1)\n",
    "cross_validate_model(svr, sh_x, sh_y)\n",
    "\n",
    "svr.fit(sh_x, sh_y)\n",
    "#%%\n",
    "embed = pd.DataFrame(np.load(adv / \"topFP_test.npy\"))\n",
    "\n",
    "tembed = pca.transform(embed)\n",
    "tembed = pd.DataFrame(tembed, columns=[f\"pca{i}\" for i in range(1, 11)])\n",
    "test_embed = pd.concat([test, tembed], axis=1)\n",
    "preds = svr.predict(test_embed)\n",
    "#%%\n",
    "\n",
    "save_test_predictions(preds, \"predictions/adv_svr_pcaembed10.csv\", \"data/advanced/test.csv\")\n",
    "#%%\n",
    "pca.explained_variance_ratio_\n"
   ]
  },
  {
   "cell_type": "code",
   "execution_count": null,
   "metadata": {},
   "outputs": [],
   "source": []
  }
 ],
 "metadata": {
  "kernelspec": {
   "display_name": "venv",
   "language": "python",
   "name": "python3"
  },
  "language_info": {
   "codemirror_mode": {
    "name": "ipython",
    "version": 3
   },
   "file_extension": ".py",
   "mimetype": "text/x-python",
   "name": "python",
   "nbconvert_exporter": "python",
   "pygments_lexer": "ipython3",
   "version": "3.11.4"
  }
 },
 "nbformat": 4,
 "nbformat_minor": 2
}
